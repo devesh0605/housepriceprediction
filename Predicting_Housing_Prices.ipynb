{
  "nbformat": 4,
  "nbformat_minor": 0,
  "metadata": {
    "colab": {
      "name": "Predicting Housing Prices.ipynb",
      "provenance": []
    },
    "kernelspec": {
      "name": "python3",
      "display_name": "Python 3"
    }
  },
  "cells": [
    {
      "cell_type": "code",
      "metadata": {
        "id": "rgzhgBikXUIY"
      },
      "source": [
        "import numpy as np\r\n",
        "import pandas as pd\r\n",
        "import matplotlib.pyplot as plt\r\n",
        "plt.style.use('dark_background')\r\n",
        "import warnings\r\n",
        "warnings.filterwarnings('ignore')"
      ],
      "execution_count": 1,
      "outputs": []
    },
    {
      "cell_type": "code",
      "metadata": {
        "colab": {
          "base_uri": "https://localhost:8080/",
          "height": 484
        },
        "id": "OoEFq6wBXszy",
        "outputId": "2addfc57-1bab-4228-d73c-c68d30715bdc"
      },
      "source": [
        "#Beginning data cleaning\r\n",
        "data = pd.read_csv('/content/drive/MyDrive/Notebooks/Raw_Housing_Prices.csv')\r\n",
        "data.head()"
      ],
      "execution_count": 2,
      "outputs": [
        {
          "output_type": "execute_result",
          "data": {
            "text/html": [
              "<div>\n",
              "<style scoped>\n",
              "    .dataframe tbody tr th:only-of-type {\n",
              "        vertical-align: middle;\n",
              "    }\n",
              "\n",
              "    .dataframe tbody tr th {\n",
              "        vertical-align: top;\n",
              "    }\n",
              "\n",
              "    .dataframe thead th {\n",
              "        text-align: right;\n",
              "    }\n",
              "</style>\n",
              "<table border=\"1\" class=\"dataframe\">\n",
              "  <thead>\n",
              "    <tr style=\"text-align: right;\">\n",
              "      <th></th>\n",
              "      <th>ID</th>\n",
              "      <th>Date House was Sold</th>\n",
              "      <th>Sale Price</th>\n",
              "      <th>No of Bedrooms</th>\n",
              "      <th>No of Bathrooms</th>\n",
              "      <th>Flat Area (in Sqft)</th>\n",
              "      <th>Lot Area (in Sqft)</th>\n",
              "      <th>No of Floors</th>\n",
              "      <th>Waterfront View</th>\n",
              "      <th>No of Times Visited</th>\n",
              "      <th>Condition of the House</th>\n",
              "      <th>Overall Grade</th>\n",
              "      <th>Area of the House from Basement (in Sqft)</th>\n",
              "      <th>Basement Area (in Sqft)</th>\n",
              "      <th>Age of House (in Years)</th>\n",
              "      <th>Renovated Year</th>\n",
              "      <th>Zipcode</th>\n",
              "      <th>Latitude</th>\n",
              "      <th>Longitude</th>\n",
              "      <th>Living Area after Renovation (in Sqft)</th>\n",
              "      <th>Lot Area after Renovation (in Sqft)</th>\n",
              "    </tr>\n",
              "  </thead>\n",
              "  <tbody>\n",
              "    <tr>\n",
              "      <th>0</th>\n",
              "      <td>7129300520</td>\n",
              "      <td>14 October 2017</td>\n",
              "      <td>221900.0</td>\n",
              "      <td>3</td>\n",
              "      <td>1.00</td>\n",
              "      <td>1180.0</td>\n",
              "      <td>5650.0</td>\n",
              "      <td>1.0</td>\n",
              "      <td>No</td>\n",
              "      <td>None</td>\n",
              "      <td>Fair</td>\n",
              "      <td>7</td>\n",
              "      <td>1180.0</td>\n",
              "      <td>0</td>\n",
              "      <td>63</td>\n",
              "      <td>0</td>\n",
              "      <td>98178.0</td>\n",
              "      <td>47.5112</td>\n",
              "      <td>-122.257</td>\n",
              "      <td>1340.0</td>\n",
              "      <td>5650</td>\n",
              "    </tr>\n",
              "    <tr>\n",
              "      <th>1</th>\n",
              "      <td>6414100192</td>\n",
              "      <td>14 December 2017</td>\n",
              "      <td>538000.0</td>\n",
              "      <td>3</td>\n",
              "      <td>2.25</td>\n",
              "      <td>2570.0</td>\n",
              "      <td>7242.0</td>\n",
              "      <td>2.0</td>\n",
              "      <td>No</td>\n",
              "      <td>None</td>\n",
              "      <td>Fair</td>\n",
              "      <td>7</td>\n",
              "      <td>2170.0</td>\n",
              "      <td>400</td>\n",
              "      <td>67</td>\n",
              "      <td>1991</td>\n",
              "      <td>98125.0</td>\n",
              "      <td>47.7210</td>\n",
              "      <td>-122.319</td>\n",
              "      <td>1690.0</td>\n",
              "      <td>7639</td>\n",
              "    </tr>\n",
              "    <tr>\n",
              "      <th>2</th>\n",
              "      <td>5631500400</td>\n",
              "      <td>15 February 2016</td>\n",
              "      <td>180000.0</td>\n",
              "      <td>2</td>\n",
              "      <td>1.00</td>\n",
              "      <td>770.0</td>\n",
              "      <td>10000.0</td>\n",
              "      <td>1.0</td>\n",
              "      <td>No</td>\n",
              "      <td>None</td>\n",
              "      <td>Fair</td>\n",
              "      <td>6</td>\n",
              "      <td>770.0</td>\n",
              "      <td>0</td>\n",
              "      <td>85</td>\n",
              "      <td>0</td>\n",
              "      <td>98028.0</td>\n",
              "      <td>47.7379</td>\n",
              "      <td>-122.233</td>\n",
              "      <td>2720.0</td>\n",
              "      <td>8062</td>\n",
              "    </tr>\n",
              "    <tr>\n",
              "      <th>3</th>\n",
              "      <td>2487200875</td>\n",
              "      <td>14 December 2017</td>\n",
              "      <td>604000.0</td>\n",
              "      <td>4</td>\n",
              "      <td>3.00</td>\n",
              "      <td>1960.0</td>\n",
              "      <td>5000.0</td>\n",
              "      <td>1.0</td>\n",
              "      <td>No</td>\n",
              "      <td>None</td>\n",
              "      <td>Excellent</td>\n",
              "      <td>7</td>\n",
              "      <td>1050.0</td>\n",
              "      <td>910</td>\n",
              "      <td>53</td>\n",
              "      <td>0</td>\n",
              "      <td>98136.0</td>\n",
              "      <td>47.5208</td>\n",
              "      <td>-122.393</td>\n",
              "      <td>1360.0</td>\n",
              "      <td>5000</td>\n",
              "    </tr>\n",
              "    <tr>\n",
              "      <th>4</th>\n",
              "      <td>1954400510</td>\n",
              "      <td>15 February 2016</td>\n",
              "      <td>510000.0</td>\n",
              "      <td>3</td>\n",
              "      <td>2.00</td>\n",
              "      <td>1680.0</td>\n",
              "      <td>8080.0</td>\n",
              "      <td>1.0</td>\n",
              "      <td>No</td>\n",
              "      <td>None</td>\n",
              "      <td>Fair</td>\n",
              "      <td>8</td>\n",
              "      <td>1680.0</td>\n",
              "      <td>0</td>\n",
              "      <td>31</td>\n",
              "      <td>0</td>\n",
              "      <td>98074.0</td>\n",
              "      <td>47.6168</td>\n",
              "      <td>-122.045</td>\n",
              "      <td>1800.0</td>\n",
              "      <td>7503</td>\n",
              "    </tr>\n",
              "  </tbody>\n",
              "</table>\n",
              "</div>"
            ],
            "text/plain": [
              "           ID  ... Lot Area after Renovation (in Sqft)\n",
              "0  7129300520  ...                                5650\n",
              "1  6414100192  ...                                7639\n",
              "2  5631500400  ...                                8062\n",
              "3  2487200875  ...                                5000\n",
              "4  1954400510  ...                                7503\n",
              "\n",
              "[5 rows x 21 columns]"
            ]
          },
          "metadata": {
            "tags": []
          },
          "execution_count": 2
        }
      ]
    },
    {
      "cell_type": "code",
      "metadata": {
        "colab": {
          "base_uri": "https://localhost:8080/"
        },
        "id": "jmAbfmAOYQt3",
        "outputId": "2822831f-d80a-4b37-c149-1b566cdff78c"
      },
      "source": [
        "data['Sale Price'].describe()"
      ],
      "execution_count": 3,
      "outputs": [
        {
          "output_type": "execute_result",
          "data": {
            "text/plain": [
              "count    2.160900e+04\n",
              "mean     5.116186e+05\n",
              "std      2.500620e+05\n",
              "min      7.500000e+04\n",
              "25%      3.219500e+05\n",
              "50%      4.500000e+05\n",
              "75%      6.450000e+05\n",
              "max      1.129575e+06\n",
              "Name: Sale Price, dtype: float64"
            ]
          },
          "metadata": {
            "tags": []
          },
          "execution_count": 3
        }
      ]
    },
    {
      "cell_type": "code",
      "metadata": {
        "colab": {
          "base_uri": "https://localhost:8080/",
          "height": 296
        },
        "id": "PHnvHBHJYWTA",
        "outputId": "af6bc8f3-9806-45e8-e7fa-3b7ea4da0664"
      },
      "source": [
        "data['Sale Price'].plot.hist()"
      ],
      "execution_count": 4,
      "outputs": [
        {
          "output_type": "execute_result",
          "data": {
            "text/plain": [
              "<matplotlib.axes._subplots.AxesSubplot at 0x7fb7fc29cd68>"
            ]
          },
          "metadata": {
            "tags": []
          },
          "execution_count": 4
        },
        {
          "output_type": "display_data",
          "data": {
            "image/png": "[encoded data removed]",
            "text/plain": [
              "<Figure size 432x288 with 1 Axes>"
            ]
          },
          "metadata": {
            "tags": [],
            "needs_background": "dark"
          }
        }
      ]
    },
    {
      "cell_type": "code",
      "metadata": {
        "colab": {
          "base_uri": "https://localhost:8080/"
        },
        "id": "AXCbc64MYip1",
        "outputId": "e3bb77f1-23ee-4394-bc1c-8ccf23a94b41"
      },
      "source": [
        "# checking quantiles\r\n",
        "q1 = data['Sale Price'].quantile(0.25)\r\n",
        "q3 = data['Sale Price'].quantile(0.75)\r\n",
        "q1, q3"
      ],
      "execution_count": 5,
      "outputs": [
        {
          "output_type": "execute_result",
          "data": {
            "text/plain": [
              "(321950.0, 645000.0)"
            ]
          },
          "metadata": {
            "tags": []
          },
          "execution_count": 5
        }
      ]
    },
    {
      "cell_type": "code",
      "metadata": {
        "colab": {
          "base_uri": "https://localhost:8080/"
        },
        "id": "jRnH8WVyYmkm",
        "outputId": "dbc6f31f-5585-4992-f5d0-175b78613ca9"
      },
      "source": [
        "#calculating iqr\r\n",
        "iqr = q3 - q1\r\n",
        "iqr"
      ],
      "execution_count": 6,
      "outputs": [
        {
          "output_type": "execute_result",
          "data": {
            "text/plain": [
              "323050.0"
            ]
          },
          "metadata": {
            "tags": []
          },
          "execution_count": 6
        }
      ]
    },
    {
      "cell_type": "code",
      "metadata": {
        "colab": {
          "base_uri": "https://localhost:8080/"
        },
        "id": "-e8vALZfYnrl",
        "outputId": "dac6c4cc-c2f9-4f44-c346-51e896a12672"
      },
      "source": [
        "upper_limit = q3 + 1.5*iqr\r\n",
        "lower_limit = q1 - 1.5*iqr\r\n",
        "upper_limit, lower_limit"
      ],
      "execution_count": 7,
      "outputs": [
        {
          "output_type": "execute_result",
          "data": {
            "text/plain": [
              "(1129575.0, -162625.0)"
            ]
          },
          "metadata": {
            "tags": []
          },
          "execution_count": 7
        }
      ]
    },
    {
      "cell_type": "code",
      "metadata": {
        "id": "nvlKGkYBYtC_"
      },
      "source": [
        "# treating outliers\r\n",
        "def limit_imputer(value):\r\n",
        "  if value > upper_limit:\r\n",
        "    return upper_limit\r\n",
        "  if value < lower_limit:\r\n",
        "    return lower_limit\r\n",
        "  else:\r\n",
        "    return value"
      ],
      "execution_count": 8,
      "outputs": []
    },
    {
      "cell_type": "code",
      "metadata": {
        "id": "MNvyUAnSYwsr"
      },
      "source": [
        "data['Sale Price'] = data['Sale Price'].apply(limit_imputer)"
      ],
      "execution_count": 9,
      "outputs": []
    },
    {
      "cell_type": "code",
      "metadata": {
        "colab": {
          "base_uri": "https://localhost:8080/",
          "height": 296
        },
        "id": "cv4ryHozYzyT",
        "outputId": "3f2e9a6a-6018-4f97-e537-26456f78e976"
      },
      "source": [
        "data['Sale Price'].plot.hist()"
      ],
      "execution_count": 10,
      "outputs": [
        {
          "output_type": "execute_result",
          "data": {
            "text/plain": [
              "<matplotlib.axes._subplots.AxesSubplot at 0x7fb7fc181748>"
            ]
          },
          "metadata": {
            "tags": []
          },
          "execution_count": 10
        },
        {
          "output_type": "display_data",
          "data": {
            "image/png": "[encoded data removed]",
            "text/plain": [
              "<Figure size 432x288 with 1 Axes>"
            ]
          },
          "metadata": {
            "tags": [],
            "needs_background": "dark"
          }
        }
      ]
    },
    {
      "cell_type": "code",
      "metadata": {
        "colab": {
          "base_uri": "https://localhost:8080/"
        },
        "id": "W7oy5X3KY6fC",
        "outputId": "e5f37505-5f67-4110-f107-7ef8ab2569b9"
      },
      "source": [
        "#checking missing values\r\n",
        "data.isnull().sum()"
      ],
      "execution_count": 11,
      "outputs": [
        {
          "output_type": "execute_result",
          "data": {
            "text/plain": [
              "ID                                           0\n",
              "Date House was Sold                          0\n",
              "Sale Price                                   0\n",
              "No of Bedrooms                               0\n",
              "No of Bathrooms                              0\n",
              "Flat Area (in Sqft)                          0\n",
              "Lot Area (in Sqft)                           0\n",
              "No of Floors                                 0\n",
              "Waterfront View                              0\n",
              "No of Times Visited                          0\n",
              "Condition of the House                       0\n",
              "Overall Grade                                0\n",
              "Area of the House from Basement (in Sqft)    0\n",
              "Basement Area (in Sqft)                      0\n",
              "Age of House (in Years)                      0\n",
              "Renovated Year                               0\n",
              "Zipcode                                      0\n",
              "Latitude                                     0\n",
              "Longitude                                    0\n",
              "Living Area after Renovation (in Sqft)       0\n",
              "Lot Area after Renovation (in Sqft)          0\n",
              "dtype: int64"
            ]
          },
          "metadata": {
            "tags": []
          },
          "execution_count": 11
        }
      ]
    },
    {
      "cell_type": "code",
      "metadata": {
        "colab": {
          "base_uri": "https://localhost:8080/"
        },
        "id": "wQidjoU6Y79j",
        "outputId": "729bd319-c36d-42cc-af46-55236e8e01f0"
      },
      "source": [
        "data['Sale Price'].dropna(inplace=True)\r\n",
        "data[\"Sale Price\"].isnull().sum()"
      ],
      "execution_count": 12,
      "outputs": [
        {
          "output_type": "execute_result",
          "data": {
            "text/plain": [
              "0"
            ]
          },
          "metadata": {
            "tags": []
          },
          "execution_count": 12
        }
      ]
    },
    {
      "cell_type": "code",
      "metadata": {
        "colab": {
          "base_uri": "https://localhost:8080/"
        },
        "id": "ogbCMCgIY_u-",
        "outputId": "df1e484b-67c2-4df7-e1a5-42205814a04b"
      },
      "source": [
        "data.info()"
      ],
      "execution_count": 13,
      "outputs": [
        {
          "output_type": "stream",
          "text": [
            "<class 'pandas.core.frame.DataFrame'>\n",
            "RangeIndex: 21609 entries, 0 to 21608\n",
            "Data columns (total 21 columns):\n",
            " #   Column                                     Non-Null Count  Dtype  \n",
            "---  ------                                     --------------  -----  \n",
            " 0   ID                                         21609 non-null  int64  \n",
            " 1   Date House was Sold                        21609 non-null  object \n",
            " 2   Sale Price                                 21609 non-null  float64\n",
            " 3   No of Bedrooms                             21609 non-null  int64  \n",
            " 4   No of Bathrooms                            21609 non-null  float64\n",
            " 5   Flat Area (in Sqft)                        21609 non-null  float64\n",
            " 6   Lot Area (in Sqft)                         21609 non-null  float64\n",
            " 7   No of Floors                               21609 non-null  float64\n",
            " 8   Waterfront View                            21609 non-null  object \n",
            " 9   No of Times Visited                        21609 non-null  object \n",
            " 10  Condition of the House                     21609 non-null  object \n",
            " 11  Overall Grade                              21609 non-null  int64  \n",
            " 12  Area of the House from Basement (in Sqft)  21609 non-null  float64\n",
            " 13  Basement Area (in Sqft)                    21609 non-null  int64  \n",
            " 14  Age of House (in Years)                    21609 non-null  int64  \n",
            " 15  Renovated Year                             21609 non-null  int64  \n",
            " 16  Zipcode                                    21609 non-null  float64\n",
            " 17  Latitude                                   21609 non-null  float64\n",
            " 18  Longitude                                  21609 non-null  float64\n",
            " 19  Living Area after Renovation (in Sqft)     21609 non-null  float64\n",
            " 20  Lot Area after Renovation (in Sqft)        21609 non-null  int64  \n",
            "dtypes: float64(10), int64(7), object(4)\n",
            "memory usage: 3.5+ MB\n"
          ],
          "name": "stdout"
        }
      ]
    },
    {
      "cell_type": "code",
      "metadata": {
        "id": "qWriB7rjZClW"
      },
      "source": [
        "#isolating numerical variables\r\n",
        "numerical_columns = ['No of Bathrooms', 'Flat Area (in Sqft)','Lot Area (in Sqft)',\r\n",
        "                     'Area of the House from Basement (in Sqft)','Latitude',\r\n",
        "                     'Longitude','Living Area after Renovation (in Sqft)']"
      ],
      "execution_count": 14,
      "outputs": []
    },
    {
      "cell_type": "code",
      "metadata": {
        "id": "AOh_bCcnZFve"
      },
      "source": [
        "#imputing missing values\r\n",
        "from sklearn.impute import SimpleImputer\r\n",
        "imputer = SimpleImputer(missing_values = np.nan, strategy = 'median')\r\n",
        "data[numerical_columns] = imputer.fit_transform(data[numerical_columns])"
      ],
      "execution_count": 15,
      "outputs": []
    },
    {
      "cell_type": "code",
      "metadata": {
        "colab": {
          "base_uri": "https://localhost:8080/"
        },
        "id": "KmCZbVzsZIu-",
        "outputId": "6690bb8a-1c42-4d5f-a982-49e22de7c785"
      },
      "source": [
        "data.info()"
      ],
      "execution_count": 16,
      "outputs": [
        {
          "output_type": "stream",
          "text": [
            "<class 'pandas.core.frame.DataFrame'>\n",
            "RangeIndex: 21609 entries, 0 to 21608\n",
            "Data columns (total 21 columns):\n",
            " #   Column                                     Non-Null Count  Dtype  \n",
            "---  ------                                     --------------  -----  \n",
            " 0   ID                                         21609 non-null  int64  \n",
            " 1   Date House was Sold                        21609 non-null  object \n",
            " 2   Sale Price                                 21609 non-null  float64\n",
            " 3   No of Bedrooms                             21609 non-null  int64  \n",
            " 4   No of Bathrooms                            21609 non-null  float64\n",
            " 5   Flat Area (in Sqft)                        21609 non-null  float64\n",
            " 6   Lot Area (in Sqft)                         21609 non-null  float64\n",
            " 7   No of Floors                               21609 non-null  float64\n",
            " 8   Waterfront View                            21609 non-null  object \n",
            " 9   No of Times Visited                        21609 non-null  object \n",
            " 10  Condition of the House                     21609 non-null  object \n",
            " 11  Overall Grade                              21609 non-null  int64  \n",
            " 12  Area of the House from Basement (in Sqft)  21609 non-null  float64\n",
            " 13  Basement Area (in Sqft)                    21609 non-null  int64  \n",
            " 14  Age of House (in Years)                    21609 non-null  int64  \n",
            " 15  Renovated Year                             21609 non-null  int64  \n",
            " 16  Zipcode                                    21609 non-null  float64\n",
            " 17  Latitude                                   21609 non-null  float64\n",
            " 18  Longitude                                  21609 non-null  float64\n",
            " 19  Living Area after Renovation (in Sqft)     21609 non-null  float64\n",
            " 20  Lot Area after Renovation (in Sqft)        21609 non-null  int64  \n",
            "dtypes: float64(10), int64(7), object(4)\n",
            "memory usage: 3.5+ MB\n"
          ],
          "name": "stdout"
        }
      ]
    },
    {
      "cell_type": "code",
      "metadata": {
        "id": "khKTO9VgZLqf"
      },
      "source": [
        "#treating zipcaodes\r\n",
        "imputer = SimpleImputer(missing_values = np.nan, strategy = 'most_frequent')\r\n",
        "data['Zipcode'] = imputer.fit_transform(data['Zipcode'].values.reshape(-1,1))"
      ],
      "execution_count": 17,
      "outputs": []
    },
    {
      "cell_type": "code",
      "metadata": {
        "colab": {
          "base_uri": "https://localhost:8080/"
        },
        "id": "yynAxwf-ZSNP",
        "outputId": "12879fad-e27e-4004-e7fd-f22cdddeb840"
      },
      "source": [
        "data['Zipcode'].shape"
      ],
      "execution_count": 18,
      "outputs": [
        {
          "output_type": "execute_result",
          "data": {
            "text/plain": [
              "(21609,)"
            ]
          },
          "metadata": {
            "tags": []
          },
          "execution_count": 18
        }
      ]
    },
    {
      "cell_type": "code",
      "metadata": {
        "colab": {
          "base_uri": "https://localhost:8080/"
        },
        "id": "N-DM_SFUZVXV",
        "outputId": "a0af7283-e504-4676-d606-c7d6f4d3d1a6"
      },
      "source": [
        "column = data[\"Zipcode\"].values.reshape(-1,1)\r\n",
        "column.shape"
      ],
      "execution_count": 19,
      "outputs": [
        {
          "output_type": "execute_result",
          "data": {
            "text/plain": [
              "(21609, 1)"
            ]
          },
          "metadata": {
            "tags": []
          },
          "execution_count": 19
        }
      ]
    },
    {
      "cell_type": "code",
      "metadata": {
        "id": "97HW-Cw2ZX9V"
      },
      "source": [
        "imputer = SimpleImputer(missing_values = np.nan, strategy = 'most_frequent')\r\n",
        "data['Zipcode'] = imputer.fit_transform(column)"
      ],
      "execution_count": 20,
      "outputs": []
    },
    {
      "cell_type": "code",
      "metadata": {
        "colab": {
          "base_uri": "https://localhost:8080/"
        },
        "id": "QN_rm-21ZarN",
        "outputId": "1ec2b15d-4318-49cb-e715-1039e9521023"
      },
      "source": [
        "data.info()"
      ],
      "execution_count": 21,
      "outputs": [
        {
          "output_type": "stream",
          "text": [
            "<class 'pandas.core.frame.DataFrame'>\n",
            "RangeIndex: 21609 entries, 0 to 21608\n",
            "Data columns (total 21 columns):\n",
            " #   Column                                     Non-Null Count  Dtype  \n",
            "---  ------                                     --------------  -----  \n",
            " 0   ID                                         21609 non-null  int64  \n",
            " 1   Date House was Sold                        21609 non-null  object \n",
            " 2   Sale Price                                 21609 non-null  float64\n",
            " 3   No of Bedrooms                             21609 non-null  int64  \n",
            " 4   No of Bathrooms                            21609 non-null  float64\n",
            " 5   Flat Area (in Sqft)                        21609 non-null  float64\n",
            " 6   Lot Area (in Sqft)                         21609 non-null  float64\n",
            " 7   No of Floors                               21609 non-null  float64\n",
            " 8   Waterfront View                            21609 non-null  object \n",
            " 9   No of Times Visited                        21609 non-null  object \n",
            " 10  Condition of the House                     21609 non-null  object \n",
            " 11  Overall Grade                              21609 non-null  int64  \n",
            " 12  Area of the House from Basement (in Sqft)  21609 non-null  float64\n",
            " 13  Basement Area (in Sqft)                    21609 non-null  int64  \n",
            " 14  Age of House (in Years)                    21609 non-null  int64  \n",
            " 15  Renovated Year                             21609 non-null  int64  \n",
            " 16  Zipcode                                    21609 non-null  float64\n",
            " 17  Latitude                                   21609 non-null  float64\n",
            " 18  Longitude                                  21609 non-null  float64\n",
            " 19  Living Area after Renovation (in Sqft)     21609 non-null  float64\n",
            " 20  Lot Area after Renovation (in Sqft)        21609 non-null  int64  \n",
            "dtypes: float64(10), int64(7), object(4)\n",
            "memory usage: 3.5+ MB\n"
          ],
          "name": "stdout"
        }
      ]
    },
    {
      "cell_type": "code",
      "metadata": {
        "colab": {
          "base_uri": "https://localhost:8080/"
        },
        "id": "_XedhBbAZd9W",
        "outputId": "fd2ad0c4-f2e9-472f-98d0-8f59dbb3b399"
      },
      "source": [
        "#treating times visited\r\n",
        "data['No of Times Visited'].unique()"
      ],
      "execution_count": 22,
      "outputs": [
        {
          "output_type": "execute_result",
          "data": {
            "text/plain": [
              "array(['None', 'Thrice', 'Four', 'Twice', 'Once'], dtype=object)"
            ]
          },
          "metadata": {
            "tags": []
          },
          "execution_count": 22
        }
      ]
    },
    {
      "cell_type": "code",
      "metadata": {
        "id": "WrAmj5_wZmnu"
      },
      "source": [
        "# converting from string to categorical\r\n",
        "mapping = {'None' : \"0\",\r\n",
        "           'Once' : '1',\r\n",
        "           'Twice' : '2',\r\n",
        "           'Thrice' : '3',\r\n",
        "           'Four' : '4'}\r\n",
        "\r\n",
        "data['No of Times Visited'] = data['No of Times Visited'].map(mapping)"
      ],
      "execution_count": 23,
      "outputs": []
    },
    {
      "cell_type": "code",
      "metadata": {
        "colab": {
          "base_uri": "https://localhost:8080/"
        },
        "id": "AfB4zzJKZpml",
        "outputId": "48281561-3a1f-4d6a-cc31-767edb25cc9e"
      },
      "source": [
        "data['No of Times Visited'].unique()"
      ],
      "execution_count": 24,
      "outputs": [
        {
          "output_type": "execute_result",
          "data": {
            "text/plain": [
              "array(['0', '3', '4', '2', '1'], dtype=object)"
            ]
          },
          "metadata": {
            "tags": []
          },
          "execution_count": 24
        }
      ]
    },
    {
      "cell_type": "code",
      "metadata": {
        "id": "PSnAViHnZqrO"
      },
      "source": [
        "# new variable creation\r\n",
        "data['Ever Renovated'] = np.where(data['Renovated Year'] == 0, 'No', 'Yes')"
      ],
      "execution_count": 25,
      "outputs": []
    },
    {
      "cell_type": "code",
      "metadata": {
        "colab": {
          "base_uri": "https://localhost:8080/",
          "height": 484
        },
        "id": "I1658hEJZtCA",
        "outputId": "fea93fde-f714-4417-c266-305fa9efd6fd"
      },
      "source": [
        "data.head()"
      ],
      "execution_count": 26,
      "outputs": [
        {
          "output_type": "execute_result",
          "data": {
            "text/html": [
              "<div>\n",
              "<style scoped>\n",
              "    .dataframe tbody tr th:only-of-type {\n",
              "        vertical-align: middle;\n",
              "    }\n",
              "\n",
              "    .dataframe tbody tr th {\n",
              "        vertical-align: top;\n",
              "    }\n",
              "\n",
              "    .dataframe thead th {\n",
              "        text-align: right;\n",
              "    }\n",
              "</style>\n",
              "<table border=\"1\" class=\"dataframe\">\n",
              "  <thead>\n",
              "    <tr style=\"text-align: right;\">\n",
              "      <th></th>\n",
              "      <th>ID</th>\n",
              "      <th>Date House was Sold</th>\n",
              "      <th>Sale Price</th>\n",
              "      <th>No of Bedrooms</th>\n",
              "      <th>No of Bathrooms</th>\n",
              "      <th>Flat Area (in Sqft)</th>\n",
              "      <th>Lot Area (in Sqft)</th>\n",
              "      <th>No of Floors</th>\n",
              "      <th>Waterfront View</th>\n",
              "      <th>No of Times Visited</th>\n",
              "      <th>Condition of the House</th>\n",
              "      <th>Overall Grade</th>\n",
              "      <th>Area of the House from Basement (in Sqft)</th>\n",
              "      <th>Basement Area (in Sqft)</th>\n",
              "      <th>Age of House (in Years)</th>\n",
              "      <th>Renovated Year</th>\n",
              "      <th>Zipcode</th>\n",
              "      <th>Latitude</th>\n",
              "      <th>Longitude</th>\n",
              "      <th>Living Area after Renovation (in Sqft)</th>\n",
              "      <th>Lot Area after Renovation (in Sqft)</th>\n",
              "      <th>Ever Renovated</th>\n",
              "    </tr>\n",
              "  </thead>\n",
              "  <tbody>\n",
              "    <tr>\n",
              "      <th>0</th>\n",
              "      <td>7129300520</td>\n",
              "      <td>14 October 2017</td>\n",
              "      <td>221900.0</td>\n",
              "      <td>3</td>\n",
              "      <td>1.00</td>\n",
              "      <td>1180.0</td>\n",
              "      <td>5650.0</td>\n",
              "      <td>1.0</td>\n",
              "      <td>No</td>\n",
              "      <td>0</td>\n",
              "      <td>Fair</td>\n",
              "      <td>7</td>\n",
              "      <td>1180.0</td>\n",
              "      <td>0</td>\n",
              "      <td>63</td>\n",
              "      <td>0</td>\n",
              "      <td>98178.0</td>\n",
              "      <td>47.5112</td>\n",
              "      <td>-122.257</td>\n",
              "      <td>1340.0</td>\n",
              "      <td>5650</td>\n",
              "      <td>No</td>\n",
              "    </tr>\n",
              "    <tr>\n",
              "      <th>1</th>\n",
              "      <td>6414100192</td>\n",
              "      <td>14 December 2017</td>\n",
              "      <td>538000.0</td>\n",
              "      <td>3</td>\n",
              "      <td>2.25</td>\n",
              "      <td>2570.0</td>\n",
              "      <td>7242.0</td>\n",
              "      <td>2.0</td>\n",
              "      <td>No</td>\n",
              "      <td>0</td>\n",
              "      <td>Fair</td>\n",
              "      <td>7</td>\n",
              "      <td>2170.0</td>\n",
              "      <td>400</td>\n",
              "      <td>67</td>\n",
              "      <td>1991</td>\n",
              "      <td>98125.0</td>\n",
              "      <td>47.7210</td>\n",
              "      <td>-122.319</td>\n",
              "      <td>1690.0</td>\n",
              "      <td>7639</td>\n",
              "      <td>Yes</td>\n",
              "    </tr>\n",
              "    <tr>\n",
              "      <th>2</th>\n",
              "      <td>5631500400</td>\n",
              "      <td>15 February 2016</td>\n",
              "      <td>180000.0</td>\n",
              "      <td>2</td>\n",
              "      <td>1.00</td>\n",
              "      <td>770.0</td>\n",
              "      <td>10000.0</td>\n",
              "      <td>1.0</td>\n",
              "      <td>No</td>\n",
              "      <td>0</td>\n",
              "      <td>Fair</td>\n",
              "      <td>6</td>\n",
              "      <td>770.0</td>\n",
              "      <td>0</td>\n",
              "      <td>85</td>\n",
              "      <td>0</td>\n",
              "      <td>98028.0</td>\n",
              "      <td>47.7379</td>\n",
              "      <td>-122.233</td>\n",
              "      <td>2720.0</td>\n",
              "      <td>8062</td>\n",
              "      <td>No</td>\n",
              "    </tr>\n",
              "    <tr>\n",
              "      <th>3</th>\n",
              "      <td>2487200875</td>\n",
              "      <td>14 December 2017</td>\n",
              "      <td>604000.0</td>\n",
              "      <td>4</td>\n",
              "      <td>3.00</td>\n",
              "      <td>1960.0</td>\n",
              "      <td>5000.0</td>\n",
              "      <td>1.0</td>\n",
              "      <td>No</td>\n",
              "      <td>0</td>\n",
              "      <td>Excellent</td>\n",
              "      <td>7</td>\n",
              "      <td>1050.0</td>\n",
              "      <td>910</td>\n",
              "      <td>53</td>\n",
              "      <td>0</td>\n",
              "      <td>98136.0</td>\n",
              "      <td>47.5208</td>\n",
              "      <td>-122.393</td>\n",
              "      <td>1360.0</td>\n",
              "      <td>5000</td>\n",
              "      <td>No</td>\n",
              "    </tr>\n",
              "    <tr>\n",
              "      <th>4</th>\n",
              "      <td>1954400510</td>\n",
              "      <td>15 February 2016</td>\n",
              "      <td>510000.0</td>\n",
              "      <td>3</td>\n",
              "      <td>2.00</td>\n",
              "      <td>1680.0</td>\n",
              "      <td>8080.0</td>\n",
              "      <td>1.0</td>\n",
              "      <td>No</td>\n",
              "      <td>0</td>\n",
              "      <td>Fair</td>\n",
              "      <td>8</td>\n",
              "      <td>1680.0</td>\n",
              "      <td>0</td>\n",
              "      <td>31</td>\n",
              "      <td>0</td>\n",
              "      <td>98074.0</td>\n",
              "      <td>47.6168</td>\n",
              "      <td>-122.045</td>\n",
              "      <td>1800.0</td>\n",
              "      <td>7503</td>\n",
              "      <td>No</td>\n",
              "    </tr>\n",
              "  </tbody>\n",
              "</table>\n",
              "</div>"
            ],
            "text/plain": [
              "           ID  ... Ever Renovated\n",
              "0  7129300520  ...             No\n",
              "1  6414100192  ...            Yes\n",
              "2  5631500400  ...             No\n",
              "3  2487200875  ...             No\n",
              "4  1954400510  ...             No\n",
              "\n",
              "[5 rows x 22 columns]"
            ]
          },
          "metadata": {
            "tags": []
          },
          "execution_count": 26
        }
      ]
    },
    {
      "cell_type": "code",
      "metadata": {
        "id": "gvMwSoVhZvsQ"
      },
      "source": [
        "#manipulating datetime variable\r\n",
        "data['Purchase Year'] = pd.DatetimeIndex(data['Date House was Sold']).year"
      ],
      "execution_count": 27,
      "outputs": []
    },
    {
      "cell_type": "code",
      "metadata": {
        "id": "U2XD-z00ZzI4"
      },
      "source": [
        "data['Years Since Renovation'] = np.where(data['Ever Renovated'] == 'Yes',\r\n",
        "                                                     abs(data['Purchase Year'] - \r\n",
        "                                                        data['Renovated Year']), 0)"
      ],
      "execution_count": 28,
      "outputs": []
    },
    {
      "cell_type": "code",
      "metadata": {
        "colab": {
          "base_uri": "https://localhost:8080/",
          "height": 484
        },
        "id": "Y1tNKMgGZ1mZ",
        "outputId": "abc9a3a7-3abd-45c3-9b9a-92a789ae3bd7"
      },
      "source": [
        "data.head()"
      ],
      "execution_count": 29,
      "outputs": [
        {
          "output_type": "execute_result",
          "data": {
            "text/html": [
              "<div>\n",
              "<style scoped>\n",
              "    .dataframe tbody tr th:only-of-type {\n",
              "        vertical-align: middle;\n",
              "    }\n",
              "\n",
              "    .dataframe tbody tr th {\n",
              "        vertical-align: top;\n",
              "    }\n",
              "\n",
              "    .dataframe thead th {\n",
              "        text-align: right;\n",
              "    }\n",
              "</style>\n",
              "<table border=\"1\" class=\"dataframe\">\n",
              "  <thead>\n",
              "    <tr style=\"text-align: right;\">\n",
              "      <th></th>\n",
              "      <th>ID</th>\n",
              "      <th>Date House was Sold</th>\n",
              "      <th>Sale Price</th>\n",
              "      <th>No of Bedrooms</th>\n",
              "      <th>No of Bathrooms</th>\n",
              "      <th>Flat Area (in Sqft)</th>\n",
              "      <th>Lot Area (in Sqft)</th>\n",
              "      <th>No of Floors</th>\n",
              "      <th>Waterfront View</th>\n",
              "      <th>No of Times Visited</th>\n",
              "      <th>Condition of the House</th>\n",
              "      <th>Overall Grade</th>\n",
              "      <th>Area of the House from Basement (in Sqft)</th>\n",
              "      <th>Basement Area (in Sqft)</th>\n",
              "      <th>Age of House (in Years)</th>\n",
              "      <th>Renovated Year</th>\n",
              "      <th>Zipcode</th>\n",
              "      <th>Latitude</th>\n",
              "      <th>Longitude</th>\n",
              "      <th>Living Area after Renovation (in Sqft)</th>\n",
              "      <th>Lot Area after Renovation (in Sqft)</th>\n",
              "      <th>Ever Renovated</th>\n",
              "      <th>Purchase Year</th>\n",
              "      <th>Years Since Renovation</th>\n",
              "    </tr>\n",
              "  </thead>\n",
              "  <tbody>\n",
              "    <tr>\n",
              "      <th>0</th>\n",
              "      <td>7129300520</td>\n",
              "      <td>14 October 2017</td>\n",
              "      <td>221900.0</td>\n",
              "      <td>3</td>\n",
              "      <td>1.00</td>\n",
              "      <td>1180.0</td>\n",
              "      <td>5650.0</td>\n",
              "      <td>1.0</td>\n",
              "      <td>No</td>\n",
              "      <td>0</td>\n",
              "      <td>Fair</td>\n",
              "      <td>7</td>\n",
              "      <td>1180.0</td>\n",
              "      <td>0</td>\n",
              "      <td>63</td>\n",
              "      <td>0</td>\n",
              "      <td>98178.0</td>\n",
              "      <td>47.5112</td>\n",
              "      <td>-122.257</td>\n",
              "      <td>1340.0</td>\n",
              "      <td>5650</td>\n",
              "      <td>No</td>\n",
              "      <td>2017</td>\n",
              "      <td>0</td>\n",
              "    </tr>\n",
              "    <tr>\n",
              "      <th>1</th>\n",
              "      <td>6414100192</td>\n",
              "      <td>14 December 2017</td>\n",
              "      <td>538000.0</td>\n",
              "      <td>3</td>\n",
              "      <td>2.25</td>\n",
              "      <td>2570.0</td>\n",
              "      <td>7242.0</td>\n",
              "      <td>2.0</td>\n",
              "      <td>No</td>\n",
              "      <td>0</td>\n",
              "      <td>Fair</td>\n",
              "      <td>7</td>\n",
              "      <td>2170.0</td>\n",
              "      <td>400</td>\n",
              "      <td>67</td>\n",
              "      <td>1991</td>\n",
              "      <td>98125.0</td>\n",
              "      <td>47.7210</td>\n",
              "      <td>-122.319</td>\n",
              "      <td>1690.0</td>\n",
              "      <td>7639</td>\n",
              "      <td>Yes</td>\n",
              "      <td>2017</td>\n",
              "      <td>26</td>\n",
              "    </tr>\n",
              "    <tr>\n",
              "      <th>2</th>\n",
              "      <td>5631500400</td>\n",
              "      <td>15 February 2016</td>\n",
              "      <td>180000.0</td>\n",
              "      <td>2</td>\n",
              "      <td>1.00</td>\n",
              "      <td>770.0</td>\n",
              "      <td>10000.0</td>\n",
              "      <td>1.0</td>\n",
              "      <td>No</td>\n",
              "      <td>0</td>\n",
              "      <td>Fair</td>\n",
              "      <td>6</td>\n",
              "      <td>770.0</td>\n",
              "      <td>0</td>\n",
              "      <td>85</td>\n",
              "      <td>0</td>\n",
              "      <td>98028.0</td>\n",
              "      <td>47.7379</td>\n",
              "      <td>-122.233</td>\n",
              "      <td>2720.0</td>\n",
              "      <td>8062</td>\n",
              "      <td>No</td>\n",
              "      <td>2016</td>\n",
              "      <td>0</td>\n",
              "    </tr>\n",
              "    <tr>\n",
              "      <th>3</th>\n",
              "      <td>2487200875</td>\n",
              "      <td>14 December 2017</td>\n",
              "      <td>604000.0</td>\n",
              "      <td>4</td>\n",
              "      <td>3.00</td>\n",
              "      <td>1960.0</td>\n",
              "      <td>5000.0</td>\n",
              "      <td>1.0</td>\n",
              "      <td>No</td>\n",
              "      <td>0</td>\n",
              "      <td>Excellent</td>\n",
              "      <td>7</td>\n",
              "      <td>1050.0</td>\n",
              "      <td>910</td>\n",
              "      <td>53</td>\n",
              "      <td>0</td>\n",
              "      <td>98136.0</td>\n",
              "      <td>47.5208</td>\n",
              "      <td>-122.393</td>\n",
              "      <td>1360.0</td>\n",
              "      <td>5000</td>\n",
              "      <td>No</td>\n",
              "      <td>2017</td>\n",
              "      <td>0</td>\n",
              "    </tr>\n",
              "    <tr>\n",
              "      <th>4</th>\n",
              "      <td>1954400510</td>\n",
              "      <td>15 February 2016</td>\n",
              "      <td>510000.0</td>\n",
              "      <td>3</td>\n",
              "      <td>2.00</td>\n",
              "      <td>1680.0</td>\n",
              "      <td>8080.0</td>\n",
              "      <td>1.0</td>\n",
              "      <td>No</td>\n",
              "      <td>0</td>\n",
              "      <td>Fair</td>\n",
              "      <td>8</td>\n",
              "      <td>1680.0</td>\n",
              "      <td>0</td>\n",
              "      <td>31</td>\n",
              "      <td>0</td>\n",
              "      <td>98074.0</td>\n",
              "      <td>47.6168</td>\n",
              "      <td>-122.045</td>\n",
              "      <td>1800.0</td>\n",
              "      <td>7503</td>\n",
              "      <td>No</td>\n",
              "      <td>2016</td>\n",
              "      <td>0</td>\n",
              "    </tr>\n",
              "  </tbody>\n",
              "</table>\n",
              "</div>"
            ],
            "text/plain": [
              "           ID Date House was Sold  ...  Purchase Year  Years Since Renovation\n",
              "0  7129300520     14 October 2017  ...           2017                       0\n",
              "1  6414100192    14 December 2017  ...           2017                      26\n",
              "2  5631500400    15 February 2016  ...           2016                       0\n",
              "3  2487200875    14 December 2017  ...           2017                       0\n",
              "4  1954400510    15 February 2016  ...           2016                       0\n",
              "\n",
              "[5 rows x 24 columns]"
            ]
          },
          "metadata": {
            "tags": []
          },
          "execution_count": 29
        }
      ]
    },
    {
      "cell_type": "code",
      "metadata": {
        "id": "V85vh34xZ4vA"
      },
      "source": [
        "# dropping redundant variables\r\n",
        "data.drop( columns = ['Purchase Year', 'Date House was Sold', 'Renovated Year'], inplace = True)"
      ],
      "execution_count": 30,
      "outputs": []
    },
    {
      "cell_type": "code",
      "metadata": {
        "colab": {
          "base_uri": "https://localhost:8080/",
          "height": 316
        },
        "id": "0__gg3StZ8Dt",
        "outputId": "88dbac67-2d72-499a-e738-4f4c187380d2"
      },
      "source": [
        "data.head()"
      ],
      "execution_count": 31,
      "outputs": [
        {
          "output_type": "execute_result",
          "data": {
            "text/html": [
              "<div>\n",
              "<style scoped>\n",
              "    .dataframe tbody tr th:only-of-type {\n",
              "        vertical-align: middle;\n",
              "    }\n",
              "\n",
              "    .dataframe tbody tr th {\n",
              "        vertical-align: top;\n",
              "    }\n",
              "\n",
              "    .dataframe thead th {\n",
              "        text-align: right;\n",
              "    }\n",
              "</style>\n",
              "<table border=\"1\" class=\"dataframe\">\n",
              "  <thead>\n",
              "    <tr style=\"text-align: right;\">\n",
              "      <th></th>\n",
              "      <th>ID</th>\n",
              "      <th>Sale Price</th>\n",
              "      <th>No of Bedrooms</th>\n",
              "      <th>No of Bathrooms</th>\n",
              "      <th>Flat Area (in Sqft)</th>\n",
              "      <th>Lot Area (in Sqft)</th>\n",
              "      <th>No of Floors</th>\n",
              "      <th>Waterfront View</th>\n",
              "      <th>No of Times Visited</th>\n",
              "      <th>Condition of the House</th>\n",
              "      <th>Overall Grade</th>\n",
              "      <th>Area of the House from Basement (in Sqft)</th>\n",
              "      <th>Basement Area (in Sqft)</th>\n",
              "      <th>Age of House (in Years)</th>\n",
              "      <th>Zipcode</th>\n",
              "      <th>Latitude</th>\n",
              "      <th>Longitude</th>\n",
              "      <th>Living Area after Renovation (in Sqft)</th>\n",
              "      <th>Lot Area after Renovation (in Sqft)</th>\n",
              "      <th>Ever Renovated</th>\n",
              "      <th>Years Since Renovation</th>\n",
              "    </tr>\n",
              "  </thead>\n",
              "  <tbody>\n",
              "    <tr>\n",
              "      <th>0</th>\n",
              "      <td>7129300520</td>\n",
              "      <td>221900.0</td>\n",
              "      <td>3</td>\n",
              "      <td>1.00</td>\n",
              "      <td>1180.0</td>\n",
              "      <td>5650.0</td>\n",
              "      <td>1.0</td>\n",
              "      <td>No</td>\n",
              "      <td>0</td>\n",
              "      <td>Fair</td>\n",
              "      <td>7</td>\n",
              "      <td>1180.0</td>\n",
              "      <td>0</td>\n",
              "      <td>63</td>\n",
              "      <td>98178.0</td>\n",
              "      <td>47.5112</td>\n",
              "      <td>-122.257</td>\n",
              "      <td>1340.0</td>\n",
              "      <td>5650</td>\n",
              "      <td>No</td>\n",
              "      <td>0</td>\n",
              "    </tr>\n",
              "    <tr>\n",
              "      <th>1</th>\n",
              "      <td>6414100192</td>\n",
              "      <td>538000.0</td>\n",
              "      <td>3</td>\n",
              "      <td>2.25</td>\n",
              "      <td>2570.0</td>\n",
              "      <td>7242.0</td>\n",
              "      <td>2.0</td>\n",
              "      <td>No</td>\n",
              "      <td>0</td>\n",
              "      <td>Fair</td>\n",
              "      <td>7</td>\n",
              "      <td>2170.0</td>\n",
              "      <td>400</td>\n",
              "      <td>67</td>\n",
              "      <td>98125.0</td>\n",
              "      <td>47.7210</td>\n",
              "      <td>-122.319</td>\n",
              "      <td>1690.0</td>\n",
              "      <td>7639</td>\n",
              "      <td>Yes</td>\n",
              "      <td>26</td>\n",
              "    </tr>\n",
              "    <tr>\n",
              "      <th>2</th>\n",
              "      <td>5631500400</td>\n",
              "      <td>180000.0</td>\n",
              "      <td>2</td>\n",
              "      <td>1.00</td>\n",
              "      <td>770.0</td>\n",
              "      <td>10000.0</td>\n",
              "      <td>1.0</td>\n",
              "      <td>No</td>\n",
              "      <td>0</td>\n",
              "      <td>Fair</td>\n",
              "      <td>6</td>\n",
              "      <td>770.0</td>\n",
              "      <td>0</td>\n",
              "      <td>85</td>\n",
              "      <td>98028.0</td>\n",
              "      <td>47.7379</td>\n",
              "      <td>-122.233</td>\n",
              "      <td>2720.0</td>\n",
              "      <td>8062</td>\n",
              "      <td>No</td>\n",
              "      <td>0</td>\n",
              "    </tr>\n",
              "    <tr>\n",
              "      <th>3</th>\n",
              "      <td>2487200875</td>\n",
              "      <td>604000.0</td>\n",
              "      <td>4</td>\n",
              "      <td>3.00</td>\n",
              "      <td>1960.0</td>\n",
              "      <td>5000.0</td>\n",
              "      <td>1.0</td>\n",
              "      <td>No</td>\n",
              "      <td>0</td>\n",
              "      <td>Excellent</td>\n",
              "      <td>7</td>\n",
              "      <td>1050.0</td>\n",
              "      <td>910</td>\n",
              "      <td>53</td>\n",
              "      <td>98136.0</td>\n",
              "      <td>47.5208</td>\n",
              "      <td>-122.393</td>\n",
              "      <td>1360.0</td>\n",
              "      <td>5000</td>\n",
              "      <td>No</td>\n",
              "      <td>0</td>\n",
              "    </tr>\n",
              "    <tr>\n",
              "      <th>4</th>\n",
              "      <td>1954400510</td>\n",
              "      <td>510000.0</td>\n",
              "      <td>3</td>\n",
              "      <td>2.00</td>\n",
              "      <td>1680.0</td>\n",
              "      <td>8080.0</td>\n",
              "      <td>1.0</td>\n",
              "      <td>No</td>\n",
              "      <td>0</td>\n",
              "      <td>Fair</td>\n",
              "      <td>8</td>\n",
              "      <td>1680.0</td>\n",
              "      <td>0</td>\n",
              "      <td>31</td>\n",
              "      <td>98074.0</td>\n",
              "      <td>47.6168</td>\n",
              "      <td>-122.045</td>\n",
              "      <td>1800.0</td>\n",
              "      <td>7503</td>\n",
              "      <td>No</td>\n",
              "      <td>0</td>\n",
              "    </tr>\n",
              "  </tbody>\n",
              "</table>\n",
              "</div>"
            ],
            "text/plain": [
              "           ID  Sale Price  ...  Ever Renovated  Years Since Renovation\n",
              "0  7129300520    221900.0  ...              No                       0\n",
              "1  6414100192    538000.0  ...             Yes                      26\n",
              "2  5631500400    180000.0  ...              No                       0\n",
              "3  2487200875    604000.0  ...              No                       0\n",
              "4  1954400510    510000.0  ...              No                       0\n",
              "\n",
              "[5 rows x 21 columns]"
            ]
          },
          "metadata": {
            "tags": []
          },
          "execution_count": 31
        }
      ]
    },
    {
      "cell_type": "code",
      "metadata": {
        "id": "5kRj1IxfaBom"
      },
      "source": [
        "data.drop( columns = 'ID', inplace = True)"
      ],
      "execution_count": 32,
      "outputs": []
    },
    {
      "cell_type": "code",
      "metadata": {
        "colab": {
          "base_uri": "https://localhost:8080/"
        },
        "id": "bemX0-zqaDc-",
        "outputId": "a606036d-fb61-45b0-ec60-0d31501b667b"
      },
      "source": [
        "data['Condition of the House'].head(10)"
      ],
      "execution_count": 33,
      "outputs": [
        {
          "output_type": "execute_result",
          "data": {
            "text/plain": [
              "0         Fair\n",
              "1         Fair\n",
              "2         Fair\n",
              "3    Excellent\n",
              "4         Fair\n",
              "5         Fair\n",
              "6         Fair\n",
              "7         Fair\n",
              "8         Fair\n",
              "9         Fair\n",
              "Name: Condition of the House, dtype: object"
            ]
          },
          "metadata": {
            "tags": []
          },
          "execution_count": 33
        }
      ]
    },
    {
      "cell_type": "code",
      "metadata": {
        "colab": {
          "base_uri": "https://localhost:8080/"
        },
        "id": "WRCyxO9xaGag",
        "outputId": "c4b2d3fb-bd1e-4056-e2fe-616983fda7e4"
      },
      "source": [
        "data['Condition of the House'].value_counts()"
      ],
      "execution_count": 34,
      "outputs": [
        {
          "output_type": "execute_result",
          "data": {
            "text/plain": [
              "Fair         14028\n",
              "Good          5678\n",
              "Excellent     1701\n",
              "Okay           172\n",
              "Bad             30\n",
              "Name: Condition of the House, dtype: int64"
            ]
          },
          "metadata": {
            "tags": []
          },
          "execution_count": 34
        }
      ]
    },
    {
      "cell_type": "code",
      "metadata": {
        "colab": {
          "base_uri": "https://localhost:8080/",
          "height": 333
        },
        "id": "OqG7LuATaKEW",
        "outputId": "d4bb0581-bf46-46fb-afd7-f0a68c564390"
      },
      "source": [
        "data.groupby('Condition of the House')['Sale Price'].mean().plot(kind = 'bar')"
      ],
      "execution_count": 35,
      "outputs": [
        {
          "output_type": "execute_result",
          "data": {
            "text/plain": [
              "<matplotlib.axes._subplots.AxesSubplot at 0x7fb7ee4ba5c0>"
            ]
          },
          "metadata": {
            "tags": []
          },
          "execution_count": 35
        },
        {
          "output_type": "display_data",
          "data": {
            "image/png": "[encoded data removed]",
            "text/plain": [
              "<Figure size 432x288 with 1 Axes>"
            ]
          },
          "metadata": {
            "tags": [],
            "needs_background": "dark"
          }
        }
      ]
    },
    {
      "cell_type": "code",
      "metadata": {
        "colab": {
          "base_uri": "https://localhost:8080/",
          "height": 333
        },
        "id": "8schYVVAaM7V",
        "outputId": "43b348e9-40db-4ec8-f268-3729ac9e0d7f"
      },
      "source": [
        "data.groupby('Condition of the House')['Sale Price'].mean().sort_values().plot(kind = 'bar')"
      ],
      "execution_count": 36,
      "outputs": [
        {
          "output_type": "execute_result",
          "data": {
            "text/plain": [
              "<matplotlib.axes._subplots.AxesSubplot at 0x7fb7ece7abe0>"
            ]
          },
          "metadata": {
            "tags": []
          },
          "execution_count": 36
        },
        {
          "output_type": "display_data",
          "data": {
            "image/png": "[encoded data removed]",
            "text/plain": [
              "<Figure size 432x288 with 1 Axes>"
            ]
          },
          "metadata": {
            "tags": [],
            "needs_background": "dark"
          }
        }
      ]
    },
    {
      "cell_type": "code",
      "metadata": {
        "colab": {
          "base_uri": "https://localhost:8080/",
          "height": 314
        },
        "id": "fiSDEUwOaRLe",
        "outputId": "7464d974-e0bb-4cb5-e7f2-147229301b5b"
      },
      "source": [
        "data.groupby('Waterfront View')['Sale Price'].mean().sort_values().plot(kind = 'bar')"
      ],
      "execution_count": 37,
      "outputs": [
        {
          "output_type": "execute_result",
          "data": {
            "text/plain": [
              "<matplotlib.axes._subplots.AxesSubplot at 0x7fb7fbcdff28>"
            ]
          },
          "metadata": {
            "tags": []
          },
          "execution_count": 37
        },
        {
          "output_type": "display_data",
          "data": {
            "image/png": "[encoded data removed]",
            "text/plain": [
              "<Figure size 432x288 with 1 Axes>"
            ]
          },
          "metadata": {
            "tags": [],
            "needs_background": "dark"
          }
        }
      ]
    },
    {
      "cell_type": "code",
      "metadata": {
        "colab": {
          "base_uri": "https://localhost:8080/",
          "height": 302
        },
        "id": "3geof_CaaSuG",
        "outputId": "7b107fb4-3391-4b8c-abac-69d35ba1a609"
      },
      "source": [
        "data.groupby('Ever Renovated')['Sale Price'].mean().sort_values().plot(kind = 'bar')"
      ],
      "execution_count": 38,
      "outputs": [
        {
          "output_type": "execute_result",
          "data": {
            "text/plain": [
              "<matplotlib.axes._subplots.AxesSubplot at 0x7fb7ecdbcfd0>"
            ]
          },
          "metadata": {
            "tags": []
          },
          "execution_count": 38
        },
        {
          "output_type": "display_data",
          "data": {
            "image/png": "[encoded data removed]",
            "text/plain": [
              "<Figure size 432x288 with 1 Axes>"
            ]
          },
          "metadata": {
            "tags": [],
            "needs_background": "dark"
          }
        }
      ]
    },
    {
      "cell_type": "code",
      "metadata": {
        "colab": {
          "base_uri": "https://localhost:8080/",
          "height": 340
        },
        "id": "yjyfvUHzaWa4",
        "outputId": "aa97879c-b73e-410f-dcd8-1669a1d56677"
      },
      "source": [
        "data.groupby('Zipcode',)['Sale Price'].mean().sort_values().plot(kind = 'bar')"
      ],
      "execution_count": 39,
      "outputs": [
        {
          "output_type": "execute_result",
          "data": {
            "text/plain": [
              "<matplotlib.axes._subplots.AxesSubplot at 0x7fb7ece7a128>"
            ]
          },
          "metadata": {
            "tags": []
          },
          "execution_count": 39
        },
        {
          "output_type": "display_data",
          "data": {
            "image/png": "[encoded data removed]",
            "text/plain": [
              "<Figure size 432x288 with 1 Axes>"
            ]
          },
          "metadata": {
            "tags": [],
            "needs_background": "dark"
          }
        }
      ]
    },
    {
      "cell_type": "code",
      "metadata": {
        "id": "Zrzvh2YkaZpV"
      },
      "source": [
        "#Beginning Linear Regression"
      ],
      "execution_count": null,
      "outputs": []
    },
    {
      "cell_type": "code",
      "metadata": {
        "id": "aKkP2whkam5O"
      },
      "source": [
        "data.dropna(inplace=True)\r\n",
        "X = data.drop(columns=['Sale Price'])\r\n",
        "Y = data['Sale Price']"
      ],
      "execution_count": 40,
      "outputs": []
    },
    {
      "cell_type": "code",
      "metadata": {
        "id": "VaWHBI-zaoJO"
      },
      "source": [
        "#checking distribution of independent numerical variables\r\n",
        "def distribution(data ,var):\r\n",
        "  plt.figure(figsize = (len(var)*6,6), dpi = 120)\r\n",
        "  for j,i in enumerate(var):\r\n",
        "    plt.subplot(1,len(var),j+1)\r\n",
        "    plt.hist(data[i])\r\n",
        "    plt.title(i)"
      ],
      "execution_count": 41,
      "outputs": []
    },
    {
      "cell_type": "code",
      "metadata": {
        "id": "Fa8QtxldarMt"
      },
      "source": [
        "numerical_columns = ['No of Bedrooms', 'No of Bathrooms', 'Lot Area (in Sqft)',\r\n",
        "       'No of Floors',\r\n",
        "       'Area of the House from Basement (in Sqft)', 'Basement Area (in Sqft)',\r\n",
        "       'Age of House (in Years)', 'Latitude', 'Longitude',\r\n",
        "       'Living Area after Renovation (in Sqft)',\r\n",
        "       'Lot Area after Renovation (in Sqft)',\r\n",
        "       'Years Since Renovation']"
      ],
      "execution_count": 42,
      "outputs": []
    },
    {
      "cell_type": "code",
      "metadata": {
        "id": "tIXROl4jatlG"
      },
      "source": [
        "for i in numerical_columns:\r\n",
        "  X[i] = pd.to_numeric(X[i])"
      ],
      "execution_count": 44,
      "outputs": []
    },
    {
      "cell_type": "code",
      "metadata": {
        "colab": {
          "base_uri": "https://localhost:8080/",
          "height": 123
        },
        "id": "3UsGG_oQaxk-",
        "outputId": "057262eb-251e-4f55-fee7-ab6d3e968e69"
      },
      "source": [
        "distribution(X, numerical_columns)"
      ],
      "execution_count": 45,
      "outputs": [
        {
          "output_type": "display_data",
          "data": {
            "image/png": "[encoded data removed]",
            "text/plain": [
              "<Figure size 8640x720 with 12 Axes>"
            ]
          },
          "metadata": {
            "tags": [],
            "needs_background": "dark"
          }
        }
      ]
    },
    {
      "cell_type": "code",
      "metadata": {
        "id": "FdZeSg5ia299"
      },
      "source": [
        "#removing right skew\r\n",
        "def right_skew(x):\r\n",
        "  return np.log(abs(x+500))\r\n",
        "\r\n",
        "right_skew_variables = ['No of Bedrooms', 'No of Bathrooms', 'Lot Area (in Sqft)',\r\n",
        "       'No of Floors',\r\n",
        "       'Area of the House from Basement (in Sqft)', 'Basement Area (in Sqft)',\r\n",
        "        'Longitude',\r\n",
        "       'Living Area after Renovation (in Sqft)',\r\n",
        "       'Lot Area after Renovation (in Sqft)',\r\n",
        "       'Years Since Renovation']\r\n"
      ],
      "execution_count": 46,
      "outputs": []
    },
    {
      "cell_type": "code",
      "metadata": {
        "id": "h6I4-Whla53g"
      },
      "source": [
        "for i in right_skew_variables:\r\n",
        "  X[i] = X[i].map(right_skew)\r\n",
        "\r\n",
        "# removing infinite values\r\n",
        "X = X.replace(np.inf, np.nan)\r\n",
        "X.dropna(inplace=True)"
      ],
      "execution_count": 47,
      "outputs": []
    },
    {
      "cell_type": "code",
      "metadata": {
        "colab": {
          "base_uri": "https://localhost:8080/",
          "height": 119
        },
        "id": "IRHwhkpfa8Tm",
        "outputId": "04e3ce6b-b68d-43f2-d000-4bb8ac8ba648"
      },
      "source": [
        "distribution(X, numerical_columns)"
      ],
      "execution_count": 48,
      "outputs": [
        {
          "output_type": "display_data",
          "data": {
            "image/png": "[encoded data removed]",
            "text/plain": [
              "<Figure size 8640x720 with 12 Axes>"
            ]
          },
          "metadata": {
            "tags": [],
            "needs_background": "dark"
          }
        }
      ]
    },
    {
      "cell_type": "code",
      "metadata": {
        "colab": {
          "base_uri": "https://localhost:8080/",
          "height": 316
        },
        "id": "BU1tuHApa_oe",
        "outputId": "59c12ef3-a478-4ada-9616-1652d83f7c2a"
      },
      "source": [
        "X.head()"
      ],
      "execution_count": 49,
      "outputs": [
        {
          "output_type": "execute_result",
          "data": {
            "text/html": [
              "<div>\n",
              "<style scoped>\n",
              "    .dataframe tbody tr th:only-of-type {\n",
              "        vertical-align: middle;\n",
              "    }\n",
              "\n",
              "    .dataframe tbody tr th {\n",
              "        vertical-align: top;\n",
              "    }\n",
              "\n",
              "    .dataframe thead th {\n",
              "        text-align: right;\n",
              "    }\n",
              "</style>\n",
              "<table border=\"1\" class=\"dataframe\">\n",
              "  <thead>\n",
              "    <tr style=\"text-align: right;\">\n",
              "      <th></th>\n",
              "      <th>No of Bedrooms</th>\n",
              "      <th>No of Bathrooms</th>\n",
              "      <th>Flat Area (in Sqft)</th>\n",
              "      <th>Lot Area (in Sqft)</th>\n",
              "      <th>No of Floors</th>\n",
              "      <th>Waterfront View</th>\n",
              "      <th>No of Times Visited</th>\n",
              "      <th>Condition of the House</th>\n",
              "      <th>Overall Grade</th>\n",
              "      <th>Area of the House from Basement (in Sqft)</th>\n",
              "      <th>Basement Area (in Sqft)</th>\n",
              "      <th>Age of House (in Years)</th>\n",
              "      <th>Zipcode</th>\n",
              "      <th>Latitude</th>\n",
              "      <th>Longitude</th>\n",
              "      <th>Living Area after Renovation (in Sqft)</th>\n",
              "      <th>Lot Area after Renovation (in Sqft)</th>\n",
              "      <th>Ever Renovated</th>\n",
              "      <th>Years Since Renovation</th>\n",
              "    </tr>\n",
              "  </thead>\n",
              "  <tbody>\n",
              "    <tr>\n",
              "      <th>0</th>\n",
              "      <td>6.220590</td>\n",
              "      <td>6.216606</td>\n",
              "      <td>1180.0</td>\n",
              "      <td>8.724207</td>\n",
              "      <td>6.216606</td>\n",
              "      <td>No</td>\n",
              "      <td>0</td>\n",
              "      <td>Fair</td>\n",
              "      <td>7</td>\n",
              "      <td>7.426549</td>\n",
              "      <td>6.214608</td>\n",
              "      <td>63</td>\n",
              "      <td>98178.0</td>\n",
              "      <td>47.5112</td>\n",
              "      <td>5.934214</td>\n",
              "      <td>7.517521</td>\n",
              "      <td>8.724207</td>\n",
              "      <td>No</td>\n",
              "      <td>6.214608</td>\n",
              "    </tr>\n",
              "    <tr>\n",
              "      <th>1</th>\n",
              "      <td>6.220590</td>\n",
              "      <td>6.219098</td>\n",
              "      <td>2570.0</td>\n",
              "      <td>8.954415</td>\n",
              "      <td>6.218600</td>\n",
              "      <td>No</td>\n",
              "      <td>0</td>\n",
              "      <td>Fair</td>\n",
              "      <td>7</td>\n",
              "      <td>7.889834</td>\n",
              "      <td>6.802395</td>\n",
              "      <td>67</td>\n",
              "      <td>98125.0</td>\n",
              "      <td>47.7210</td>\n",
              "      <td>5.934050</td>\n",
              "      <td>7.691657</td>\n",
              "      <td>9.004423</td>\n",
              "      <td>Yes</td>\n",
              "      <td>6.265301</td>\n",
              "    </tr>\n",
              "    <tr>\n",
              "      <th>2</th>\n",
              "      <td>6.218600</td>\n",
              "      <td>6.216606</td>\n",
              "      <td>770.0</td>\n",
              "      <td>9.259131</td>\n",
              "      <td>6.216606</td>\n",
              "      <td>No</td>\n",
              "      <td>0</td>\n",
              "      <td>Fair</td>\n",
              "      <td>6</td>\n",
              "      <td>7.146772</td>\n",
              "      <td>6.214608</td>\n",
              "      <td>85</td>\n",
              "      <td>98028.0</td>\n",
              "      <td>47.7379</td>\n",
              "      <td>5.934278</td>\n",
              "      <td>8.077137</td>\n",
              "      <td>9.055089</td>\n",
              "      <td>No</td>\n",
              "      <td>6.214608</td>\n",
              "    </tr>\n",
              "    <tr>\n",
              "      <th>3</th>\n",
              "      <td>6.222576</td>\n",
              "      <td>6.220590</td>\n",
              "      <td>1960.0</td>\n",
              "      <td>8.612503</td>\n",
              "      <td>6.216606</td>\n",
              "      <td>No</td>\n",
              "      <td>0</td>\n",
              "      <td>Excellent</td>\n",
              "      <td>7</td>\n",
              "      <td>7.346010</td>\n",
              "      <td>7.251345</td>\n",
              "      <td>53</td>\n",
              "      <td>98136.0</td>\n",
              "      <td>47.5208</td>\n",
              "      <td>5.933854</td>\n",
              "      <td>7.528332</td>\n",
              "      <td>8.612503</td>\n",
              "      <td>No</td>\n",
              "      <td>6.214608</td>\n",
              "    </tr>\n",
              "    <tr>\n",
              "      <th>4</th>\n",
              "      <td>6.220590</td>\n",
              "      <td>6.218600</td>\n",
              "      <td>1680.0</td>\n",
              "      <td>9.057189</td>\n",
              "      <td>6.216606</td>\n",
              "      <td>No</td>\n",
              "      <td>0</td>\n",
              "      <td>Fair</td>\n",
              "      <td>8</td>\n",
              "      <td>7.687080</td>\n",
              "      <td>6.214608</td>\n",
              "      <td>31</td>\n",
              "      <td>98074.0</td>\n",
              "      <td>47.6168</td>\n",
              "      <td>5.934775</td>\n",
              "      <td>7.740664</td>\n",
              "      <td>8.987572</td>\n",
              "      <td>No</td>\n",
              "      <td>6.214608</td>\n",
              "    </tr>\n",
              "  </tbody>\n",
              "</table>\n",
              "</div>"
            ],
            "text/plain": [
              "   No of Bedrooms  No of Bathrooms  ...  Ever Renovated  Years Since Renovation\n",
              "0        6.220590         6.216606  ...              No                6.214608\n",
              "1        6.220590         6.219098  ...             Yes                6.265301\n",
              "2        6.218600         6.216606  ...              No                6.214608\n",
              "3        6.222576         6.220590  ...              No                6.214608\n",
              "4        6.220590         6.218600  ...              No                6.214608\n",
              "\n",
              "[5 rows x 19 columns]"
            ]
          },
          "metadata": {
            "tags": []
          },
          "execution_count": 49
        }
      ]
    },
    {
      "cell_type": "code",
      "metadata": {
        "colab": {
          "base_uri": "https://localhost:8080/",
          "height": 316
        },
        "id": "UmNJ2cjkbFGp",
        "outputId": "95562d21-09f5-47ad-ee39-867da6add602"
      },
      "source": [
        "X[\"Waterfront View\"] = X[\"Waterfront View\"].map({    'No':0,\r\n",
        "   'Yes':1\r\n",
        "})\r\n",
        "\r\n",
        "\r\n",
        "X['Condition of the House'] = X['Condition of the House'].map({'Bad':1,\r\n",
        "                                                                     'Okay':2,\r\n",
        "                                                                     'Fair':3,\r\n",
        "                                                                     'Good':4,\r\n",
        "                                                                     'Excellent':5\r\n",
        "})\r\n",
        "\r\n",
        "X['Ever Renovated'] = X['Ever Renovated'].map({\r\n",
        "    'No':0,\r\n",
        "    'Yes':1\r\n",
        "})\r\n",
        "\r\n",
        "X.head()"
      ],
      "execution_count": 50,
      "outputs": [
        {
          "output_type": "execute_result",
          "data": {
            "text/html": [
              "<div>\n",
              "<style scoped>\n",
              "    .dataframe tbody tr th:only-of-type {\n",
              "        vertical-align: middle;\n",
              "    }\n",
              "\n",
              "    .dataframe tbody tr th {\n",
              "        vertical-align: top;\n",
              "    }\n",
              "\n",
              "    .dataframe thead th {\n",
              "        text-align: right;\n",
              "    }\n",
              "</style>\n",
              "<table border=\"1\" class=\"dataframe\">\n",
              "  <thead>\n",
              "    <tr style=\"text-align: right;\">\n",
              "      <th></th>\n",
              "      <th>No of Bedrooms</th>\n",
              "      <th>No of Bathrooms</th>\n",
              "      <th>Flat Area (in Sqft)</th>\n",
              "      <th>Lot Area (in Sqft)</th>\n",
              "      <th>No of Floors</th>\n",
              "      <th>Waterfront View</th>\n",
              "      <th>No of Times Visited</th>\n",
              "      <th>Condition of the House</th>\n",
              "      <th>Overall Grade</th>\n",
              "      <th>Area of the House from Basement (in Sqft)</th>\n",
              "      <th>Basement Area (in Sqft)</th>\n",
              "      <th>Age of House (in Years)</th>\n",
              "      <th>Zipcode</th>\n",
              "      <th>Latitude</th>\n",
              "      <th>Longitude</th>\n",
              "      <th>Living Area after Renovation (in Sqft)</th>\n",
              "      <th>Lot Area after Renovation (in Sqft)</th>\n",
              "      <th>Ever Renovated</th>\n",
              "      <th>Years Since Renovation</th>\n",
              "    </tr>\n",
              "  </thead>\n",
              "  <tbody>\n",
              "    <tr>\n",
              "      <th>0</th>\n",
              "      <td>6.220590</td>\n",
              "      <td>6.216606</td>\n",
              "      <td>1180.0</td>\n",
              "      <td>8.724207</td>\n",
              "      <td>6.216606</td>\n",
              "      <td>0</td>\n",
              "      <td>0</td>\n",
              "      <td>3</td>\n",
              "      <td>7</td>\n",
              "      <td>7.426549</td>\n",
              "      <td>6.214608</td>\n",
              "      <td>63</td>\n",
              "      <td>98178.0</td>\n",
              "      <td>47.5112</td>\n",
              "      <td>5.934214</td>\n",
              "      <td>7.517521</td>\n",
              "      <td>8.724207</td>\n",
              "      <td>0</td>\n",
              "      <td>6.214608</td>\n",
              "    </tr>\n",
              "    <tr>\n",
              "      <th>1</th>\n",
              "      <td>6.220590</td>\n",
              "      <td>6.219098</td>\n",
              "      <td>2570.0</td>\n",
              "      <td>8.954415</td>\n",
              "      <td>6.218600</td>\n",
              "      <td>0</td>\n",
              "      <td>0</td>\n",
              "      <td>3</td>\n",
              "      <td>7</td>\n",
              "      <td>7.889834</td>\n",
              "      <td>6.802395</td>\n",
              "      <td>67</td>\n",
              "      <td>98125.0</td>\n",
              "      <td>47.7210</td>\n",
              "      <td>5.934050</td>\n",
              "      <td>7.691657</td>\n",
              "      <td>9.004423</td>\n",
              "      <td>1</td>\n",
              "      <td>6.265301</td>\n",
              "    </tr>\n",
              "    <tr>\n",
              "      <th>2</th>\n",
              "      <td>6.218600</td>\n",
              "      <td>6.216606</td>\n",
              "      <td>770.0</td>\n",
              "      <td>9.259131</td>\n",
              "      <td>6.216606</td>\n",
              "      <td>0</td>\n",
              "      <td>0</td>\n",
              "      <td>3</td>\n",
              "      <td>6</td>\n",
              "      <td>7.146772</td>\n",
              "      <td>6.214608</td>\n",
              "      <td>85</td>\n",
              "      <td>98028.0</td>\n",
              "      <td>47.7379</td>\n",
              "      <td>5.934278</td>\n",
              "      <td>8.077137</td>\n",
              "      <td>9.055089</td>\n",
              "      <td>0</td>\n",
              "      <td>6.214608</td>\n",
              "    </tr>\n",
              "    <tr>\n",
              "      <th>3</th>\n",
              "      <td>6.222576</td>\n",
              "      <td>6.220590</td>\n",
              "      <td>1960.0</td>\n",
              "      <td>8.612503</td>\n",
              "      <td>6.216606</td>\n",
              "      <td>0</td>\n",
              "      <td>0</td>\n",
              "      <td>5</td>\n",
              "      <td>7</td>\n",
              "      <td>7.346010</td>\n",
              "      <td>7.251345</td>\n",
              "      <td>53</td>\n",
              "      <td>98136.0</td>\n",
              "      <td>47.5208</td>\n",
              "      <td>5.933854</td>\n",
              "      <td>7.528332</td>\n",
              "      <td>8.612503</td>\n",
              "      <td>0</td>\n",
              "      <td>6.214608</td>\n",
              "    </tr>\n",
              "    <tr>\n",
              "      <th>4</th>\n",
              "      <td>6.220590</td>\n",
              "      <td>6.218600</td>\n",
              "      <td>1680.0</td>\n",
              "      <td>9.057189</td>\n",
              "      <td>6.216606</td>\n",
              "      <td>0</td>\n",
              "      <td>0</td>\n",
              "      <td>3</td>\n",
              "      <td>8</td>\n",
              "      <td>7.687080</td>\n",
              "      <td>6.214608</td>\n",
              "      <td>31</td>\n",
              "      <td>98074.0</td>\n",
              "      <td>47.6168</td>\n",
              "      <td>5.934775</td>\n",
              "      <td>7.740664</td>\n",
              "      <td>8.987572</td>\n",
              "      <td>0</td>\n",
              "      <td>6.214608</td>\n",
              "    </tr>\n",
              "  </tbody>\n",
              "</table>\n",
              "</div>"
            ],
            "text/plain": [
              "   No of Bedrooms  No of Bathrooms  ...  Ever Renovated  Years Since Renovation\n",
              "0        6.220590         6.216606  ...               0                6.214608\n",
              "1        6.220590         6.219098  ...               1                6.265301\n",
              "2        6.218600         6.216606  ...               0                6.214608\n",
              "3        6.222576         6.220590  ...               0                6.214608\n",
              "4        6.220590         6.218600  ...               0                6.214608\n",
              "\n",
              "[5 rows x 19 columns]"
            ]
          },
          "metadata": {
            "tags": []
          },
          "execution_count": 50
        }
      ]
    },
    {
      "cell_type": "code",
      "metadata": {
        "colab": {
          "base_uri": "https://localhost:8080/",
          "height": 316
        },
        "id": "_GhU_3BcbH-l",
        "outputId": "a46ea552-cbfe-4383-fe87-25cb57e2a40f"
      },
      "source": [
        "from sklearn.preprocessing import StandardScaler\r\n",
        "scaler = StandardScaler()\r\n",
        "Y = data['Sale Price']\r\n",
        "X1 = scaler.fit_transform(X)\r\n",
        "X = pd.DataFrame(data = X1, columns = X.columns)\r\n",
        "X.head()"
      ],
      "execution_count": 51,
      "outputs": [
        {
          "output_type": "execute_result",
          "data": {
            "text/html": [
              "<div>\n",
              "<style scoped>\n",
              "    .dataframe tbody tr th:only-of-type {\n",
              "        vertical-align: middle;\n",
              "    }\n",
              "\n",
              "    .dataframe tbody tr th {\n",
              "        vertical-align: top;\n",
              "    }\n",
              "\n",
              "    .dataframe thead th {\n",
              "        text-align: right;\n",
              "    }\n",
              "</style>\n",
              "<table border=\"1\" class=\"dataframe\">\n",
              "  <thead>\n",
              "    <tr style=\"text-align: right;\">\n",
              "      <th></th>\n",
              "      <th>No of Bedrooms</th>\n",
              "      <th>No of Bathrooms</th>\n",
              "      <th>Flat Area (in Sqft)</th>\n",
              "      <th>Lot Area (in Sqft)</th>\n",
              "      <th>No of Floors</th>\n",
              "      <th>Waterfront View</th>\n",
              "      <th>No of Times Visited</th>\n",
              "      <th>Condition of the House</th>\n",
              "      <th>Overall Grade</th>\n",
              "      <th>Area of the House from Basement (in Sqft)</th>\n",
              "      <th>Basement Area (in Sqft)</th>\n",
              "      <th>Age of House (in Years)</th>\n",
              "      <th>Zipcode</th>\n",
              "      <th>Latitude</th>\n",
              "      <th>Longitude</th>\n",
              "      <th>Living Area after Renovation (in Sqft)</th>\n",
              "      <th>Lot Area after Renovation (in Sqft)</th>\n",
              "      <th>Ever Renovated</th>\n",
              "      <th>Years Since Renovation</th>\n",
              "    </tr>\n",
              "  </thead>\n",
              "  <tbody>\n",
              "    <tr>\n",
              "      <th>0</th>\n",
              "      <td>-0.398647</td>\n",
              "      <td>-1.448931</td>\n",
              "      <td>-0.979905</td>\n",
              "      <td>-0.412101</td>\n",
              "      <td>-0.915604</td>\n",
              "      <td>-0.087181</td>\n",
              "      <td>-0.30579</td>\n",
              "      <td>-0.629203</td>\n",
              "      <td>-0.563993</td>\n",
              "      <td>-0.767588</td>\n",
              "      <td>-0.726332</td>\n",
              "      <td>0.544734</td>\n",
              "      <td>1.870094</td>\n",
              "      <td>-0.352576</td>\n",
              "      <td>-0.306108</td>\n",
              "      <td>-1.027547</td>\n",
              "      <td>-0.416515</td>\n",
              "      <td>-0.210155</td>\n",
              "      <td>-0.168911</td>\n",
              "    </tr>\n",
              "    <tr>\n",
              "      <th>1</th>\n",
              "      <td>-0.398647</td>\n",
              "      <td>0.176496</td>\n",
              "      <td>0.533718</td>\n",
              "      <td>-0.139474</td>\n",
              "      <td>0.937193</td>\n",
              "      <td>-0.087181</td>\n",
              "      <td>-0.30579</td>\n",
              "      <td>-0.629203</td>\n",
              "      <td>-0.563993</td>\n",
              "      <td>0.642025</td>\n",
              "      <td>0.538457</td>\n",
              "      <td>0.680915</td>\n",
              "      <td>0.879534</td>\n",
              "      <td>1.161645</td>\n",
              "      <td>-0.746519</td>\n",
              "      <td>-0.355983</td>\n",
              "      <td>-0.048331</td>\n",
              "      <td>4.758385</td>\n",
              "      <td>4.827106</td>\n",
              "    </tr>\n",
              "    <tr>\n",
              "      <th>2</th>\n",
              "      <td>-1.477788</td>\n",
              "      <td>-1.448931</td>\n",
              "      <td>-1.426369</td>\n",
              "      <td>0.221390</td>\n",
              "      <td>-0.915604</td>\n",
              "      <td>-0.087181</td>\n",
              "      <td>-0.30579</td>\n",
              "      <td>-0.629203</td>\n",
              "      <td>-1.468566</td>\n",
              "      <td>-1.618851</td>\n",
              "      <td>-0.726332</td>\n",
              "      <td>1.293731</td>\n",
              "      <td>-0.933379</td>\n",
              "      <td>1.283619</td>\n",
              "      <td>-0.135646</td>\n",
              "      <td>1.130637</td>\n",
              "      <td>0.018241</td>\n",
              "      <td>-0.210155</td>\n",
              "      <td>-0.168911</td>\n",
              "    </tr>\n",
              "    <tr>\n",
              "      <th>3</th>\n",
              "      <td>0.678352</td>\n",
              "      <td>1.149811</td>\n",
              "      <td>-0.130534</td>\n",
              "      <td>-0.544388</td>\n",
              "      <td>-0.915604</td>\n",
              "      <td>-0.087181</td>\n",
              "      <td>-0.30579</td>\n",
              "      <td>2.444136</td>\n",
              "      <td>-0.563993</td>\n",
              "      <td>-1.012639</td>\n",
              "      <td>1.504500</td>\n",
              "      <td>0.204281</td>\n",
              "      <td>1.085122</td>\n",
              "      <td>-0.283288</td>\n",
              "      <td>-1.272266</td>\n",
              "      <td>-0.985854</td>\n",
              "      <td>-0.563287</td>\n",
              "      <td>-0.210155</td>\n",
              "      <td>-0.168911</td>\n",
              "    </tr>\n",
              "    <tr>\n",
              "      <th>4</th>\n",
              "      <td>-0.398647</td>\n",
              "      <td>-0.148266</td>\n",
              "      <td>-0.435436</td>\n",
              "      <td>-0.017762</td>\n",
              "      <td>-0.915604</td>\n",
              "      <td>-0.087181</td>\n",
              "      <td>-0.30579</td>\n",
              "      <td>-0.629203</td>\n",
              "      <td>0.340581</td>\n",
              "      <td>0.025117</td>\n",
              "      <td>-0.726332</td>\n",
              "      <td>-0.544715</td>\n",
              "      <td>-0.073647</td>\n",
              "      <td>0.409587</td>\n",
              "      <td>1.199268</td>\n",
              "      <td>-0.166983</td>\n",
              "      <td>-0.070472</td>\n",
              "      <td>-0.210155</td>\n",
              "      <td>-0.168911</td>\n",
              "    </tr>\n",
              "  </tbody>\n",
              "</table>\n",
              "</div>"
            ],
            "text/plain": [
              "   No of Bedrooms  No of Bathrooms  ...  Ever Renovated  Years Since Renovation\n",
              "0       -0.398647        -1.448931  ...       -0.210155               -0.168911\n",
              "1       -0.398647         0.176496  ...        4.758385                4.827106\n",
              "2       -1.477788        -1.448931  ...       -0.210155               -0.168911\n",
              "3        0.678352         1.149811  ...       -0.210155               -0.168911\n",
              "4       -0.398647        -0.148266  ...       -0.210155               -0.168911\n",
              "\n",
              "[5 rows x 19 columns]"
            ]
          },
          "metadata": {
            "tags": []
          },
          "execution_count": 51
        }
      ]
    },
    {
      "cell_type": "code",
      "metadata": {
        "colab": {
          "base_uri": "https://localhost:8080/",
          "height": 1000
        },
        "id": "t0n_nu6UbK8e",
        "outputId": "e0e2bbc9-7e73-4817-f342-741068d66f0b"
      },
      "source": [
        "X.corr()"
      ],
      "execution_count": 52,
      "outputs": [
        {
          "output_type": "execute_result",
          "data": {
            "text/html": [
              "<div>\n",
              "<style scoped>\n",
              "    .dataframe tbody tr th:only-of-type {\n",
              "        vertical-align: middle;\n",
              "    }\n",
              "\n",
              "    .dataframe tbody tr th {\n",
              "        vertical-align: top;\n",
              "    }\n",
              "\n",
              "    .dataframe thead th {\n",
              "        text-align: right;\n",
              "    }\n",
              "</style>\n",
              "<table border=\"1\" class=\"dataframe\">\n",
              "  <thead>\n",
              "    <tr style=\"text-align: right;\">\n",
              "      <th></th>\n",
              "      <th>No of Bedrooms</th>\n",
              "      <th>No of Bathrooms</th>\n",
              "      <th>Flat Area (in Sqft)</th>\n",
              "      <th>Lot Area (in Sqft)</th>\n",
              "      <th>No of Floors</th>\n",
              "      <th>Waterfront View</th>\n",
              "      <th>No of Times Visited</th>\n",
              "      <th>Condition of the House</th>\n",
              "      <th>Overall Grade</th>\n",
              "      <th>Area of the House from Basement (in Sqft)</th>\n",
              "      <th>Basement Area (in Sqft)</th>\n",
              "      <th>Age of House (in Years)</th>\n",
              "      <th>Zipcode</th>\n",
              "      <th>Latitude</th>\n",
              "      <th>Longitude</th>\n",
              "      <th>Living Area after Renovation (in Sqft)</th>\n",
              "      <th>Lot Area after Renovation (in Sqft)</th>\n",
              "      <th>Ever Renovated</th>\n",
              "      <th>Years Since Renovation</th>\n",
              "    </tr>\n",
              "  </thead>\n",
              "  <tbody>\n",
              "    <tr>\n",
              "      <th>No of Bedrooms</th>\n",
              "      <td>1.000000</td>\n",
              "      <td>0.516645</td>\n",
              "      <td>0.577469</td>\n",
              "      <td>0.175425</td>\n",
              "      <td>0.175995</td>\n",
              "      <td>-0.006617</td>\n",
              "      <td>0.079649</td>\n",
              "      <td>0.028514</td>\n",
              "      <td>0.349933</td>\n",
              "      <td>0.509475</td>\n",
              "      <td>0.276781</td>\n",
              "      <td>-0.154613</td>\n",
              "      <td>-0.153163</td>\n",
              "      <td>-0.008867</td>\n",
              "      <td>0.129997</td>\n",
              "      <td>0.404806</td>\n",
              "      <td>0.154329</td>\n",
              "      <td>0.018555</td>\n",
              "      <td>-0.006734</td>\n",
              "    </tr>\n",
              "    <tr>\n",
              "      <th>No of Bathrooms</th>\n",
              "      <td>0.516645</td>\n",
              "      <td>1.000000</td>\n",
              "      <td>0.754415</td>\n",
              "      <td>0.105010</td>\n",
              "      <td>0.500980</td>\n",
              "      <td>0.063683</td>\n",
              "      <td>0.187657</td>\n",
              "      <td>-0.124874</td>\n",
              "      <td>0.635778</td>\n",
              "      <td>0.696041</td>\n",
              "      <td>0.254042</td>\n",
              "      <td>-0.506206</td>\n",
              "      <td>-0.204097</td>\n",
              "      <td>0.024506</td>\n",
              "      <td>0.223332</td>\n",
              "      <td>0.572407</td>\n",
              "      <td>0.095798</td>\n",
              "      <td>0.050239</td>\n",
              "      <td>0.004644</td>\n",
              "    </tr>\n",
              "    <tr>\n",
              "      <th>Flat Area (in Sqft)</th>\n",
              "      <td>0.577469</td>\n",
              "      <td>0.754415</td>\n",
              "      <td>1.000000</td>\n",
              "      <td>0.341571</td>\n",
              "      <td>0.354268</td>\n",
              "      <td>0.103841</td>\n",
              "      <td>0.284678</td>\n",
              "      <td>-0.058922</td>\n",
              "      <td>0.705725</td>\n",
              "      <td>0.853690</td>\n",
              "      <td>0.373296</td>\n",
              "      <td>-0.318146</td>\n",
              "      <td>-0.199380</td>\n",
              "      <td>0.052538</td>\n",
              "      <td>0.240124</td>\n",
              "      <td>0.739515</td>\n",
              "      <td>0.318573</td>\n",
              "      <td>0.055111</td>\n",
              "      <td>0.024552</td>\n",
              "    </tr>\n",
              "    <tr>\n",
              "      <th>Lot Area (in Sqft)</th>\n",
              "      <td>0.175425</td>\n",
              "      <td>0.105010</td>\n",
              "      <td>0.341571</td>\n",
              "      <td>1.000000</td>\n",
              "      <td>-0.218404</td>\n",
              "      <td>0.074316</td>\n",
              "      <td>0.121698</td>\n",
              "      <td>0.066113</td>\n",
              "      <td>0.165808</td>\n",
              "      <td>0.319715</td>\n",
              "      <td>0.056278</td>\n",
              "      <td>-0.006100</td>\n",
              "      <td>-0.279267</td>\n",
              "      <td>-0.145945</td>\n",
              "      <td>0.376102</td>\n",
              "      <td>0.361633</td>\n",
              "      <td>0.917835</td>\n",
              "      <td>0.022789</td>\n",
              "      <td>0.033036</td>\n",
              "    </tr>\n",
              "    <tr>\n",
              "      <th>No of Floors</th>\n",
              "      <td>0.175995</td>\n",
              "      <td>0.500980</td>\n",
              "      <td>0.354268</td>\n",
              "      <td>-0.218404</td>\n",
              "      <td>1.000000</td>\n",
              "      <td>0.023721</td>\n",
              "      <td>0.029503</td>\n",
              "      <td>-0.263676</td>\n",
              "      <td>0.461442</td>\n",
              "      <td>0.548408</td>\n",
              "      <td>-0.266598</td>\n",
              "      <td>-0.489232</td>\n",
              "      <td>-0.059289</td>\n",
              "      <td>0.049640</td>\n",
              "      <td>0.125724</td>\n",
              "      <td>0.277817</td>\n",
              "      <td>-0.210687</td>\n",
              "      <td>0.006318</td>\n",
              "      <td>-0.000379</td>\n",
              "    </tr>\n",
              "    <tr>\n",
              "      <th>Waterfront View</th>\n",
              "      <td>-0.006617</td>\n",
              "      <td>0.063683</td>\n",
              "      <td>0.103841</td>\n",
              "      <td>0.074316</td>\n",
              "      <td>0.023721</td>\n",
              "      <td>1.000000</td>\n",
              "      <td>0.401856</td>\n",
              "      <td>0.016650</td>\n",
              "      <td>0.070332</td>\n",
              "      <td>0.063294</td>\n",
              "      <td>0.063276</td>\n",
              "      <td>0.026149</td>\n",
              "      <td>0.030286</td>\n",
              "      <td>-0.014275</td>\n",
              "      <td>-0.041934</td>\n",
              "      <td>0.080573</td>\n",
              "      <td>0.083232</td>\n",
              "      <td>0.093291</td>\n",
              "      <td>0.105822</td>\n",
              "    </tr>\n",
              "    <tr>\n",
              "      <th>No of Times Visited</th>\n",
              "      <td>0.079649</td>\n",
              "      <td>0.187657</td>\n",
              "      <td>0.284678</td>\n",
              "      <td>0.121698</td>\n",
              "      <td>0.029503</td>\n",
              "      <td>0.401856</td>\n",
              "      <td>1.000000</td>\n",
              "      <td>0.045978</td>\n",
              "      <td>0.223661</td>\n",
              "      <td>0.161106</td>\n",
              "      <td>0.249446</td>\n",
              "      <td>0.053395</td>\n",
              "      <td>0.084830</td>\n",
              "      <td>0.006162</td>\n",
              "      <td>-0.078472</td>\n",
              "      <td>0.268524</td>\n",
              "      <td>0.118788</td>\n",
              "      <td>0.104051</td>\n",
              "      <td>0.094621</td>\n",
              "    </tr>\n",
              "    <tr>\n",
              "      <th>Condition of the House</th>\n",
              "      <td>0.028514</td>\n",
              "      <td>-0.124874</td>\n",
              "      <td>-0.058922</td>\n",
              "      <td>0.066113</td>\n",
              "      <td>-0.263676</td>\n",
              "      <td>0.016650</td>\n",
              "      <td>0.045978</td>\n",
              "      <td>1.000000</td>\n",
              "      <td>-0.143747</td>\n",
              "      <td>-0.153588</td>\n",
              "      <td>0.176043</td>\n",
              "      <td>0.361383</td>\n",
              "      <td>0.003076</td>\n",
              "      <td>-0.015008</td>\n",
              "      <td>-0.106546</td>\n",
              "      <td>-0.090182</td>\n",
              "      <td>0.073370</td>\n",
              "      <td>-0.060152</td>\n",
              "      <td>-0.012115</td>\n",
              "    </tr>\n",
              "    <tr>\n",
              "      <th>Overall Grade</th>\n",
              "      <td>0.349933</td>\n",
              "      <td>0.635778</td>\n",
              "      <td>0.705725</td>\n",
              "      <td>0.165808</td>\n",
              "      <td>0.461442</td>\n",
              "      <td>0.070332</td>\n",
              "      <td>0.223661</td>\n",
              "      <td>-0.143747</td>\n",
              "      <td>1.000000</td>\n",
              "      <td>0.723789</td>\n",
              "      <td>0.116078</td>\n",
              "      <td>-0.456711</td>\n",
              "      <td>-0.185844</td>\n",
              "      <td>0.111226</td>\n",
              "      <td>0.201765</td>\n",
              "      <td>0.676795</td>\n",
              "      <td>0.167561</td>\n",
              "      <td>0.010010</td>\n",
              "      <td>-0.023473</td>\n",
              "    </tr>\n",
              "    <tr>\n",
              "      <th>Area of the House from Basement (in Sqft)</th>\n",
              "      <td>0.509475</td>\n",
              "      <td>0.696041</td>\n",
              "      <td>0.853690</td>\n",
              "      <td>0.319715</td>\n",
              "      <td>0.548408</td>\n",
              "      <td>0.063294</td>\n",
              "      <td>0.161106</td>\n",
              "      <td>-0.153588</td>\n",
              "      <td>0.723789</td>\n",
              "      <td>1.000000</td>\n",
              "      <td>-0.111289</td>\n",
              "      <td>-0.448692</td>\n",
              "      <td>-0.285278</td>\n",
              "      <td>-0.015269</td>\n",
              "      <td>0.360187</td>\n",
              "      <td>0.720753</td>\n",
              "      <td>0.301163</td>\n",
              "      <td>0.026070</td>\n",
              "      <td>0.013457</td>\n",
              "    </tr>\n",
              "    <tr>\n",
              "      <th>Basement Area (in Sqft)</th>\n",
              "      <td>0.276781</td>\n",
              "      <td>0.254042</td>\n",
              "      <td>0.373296</td>\n",
              "      <td>0.056278</td>\n",
              "      <td>-0.266598</td>\n",
              "      <td>0.063276</td>\n",
              "      <td>0.249446</td>\n",
              "      <td>0.176043</td>\n",
              "      <td>0.116078</td>\n",
              "      <td>-0.111289</td>\n",
              "      <td>1.000000</td>\n",
              "      <td>0.153930</td>\n",
              "      <td>0.103527</td>\n",
              "      <td>0.121208</td>\n",
              "      <td>-0.177197</td>\n",
              "      <td>0.166776</td>\n",
              "      <td>0.045337</td>\n",
              "      <td>0.067745</td>\n",
              "      <td>0.028257</td>\n",
              "    </tr>\n",
              "    <tr>\n",
              "      <th>Age of House (in Years)</th>\n",
              "      <td>-0.154613</td>\n",
              "      <td>-0.506206</td>\n",
              "      <td>-0.318146</td>\n",
              "      <td>-0.006100</td>\n",
              "      <td>-0.489232</td>\n",
              "      <td>0.026149</td>\n",
              "      <td>0.053395</td>\n",
              "      <td>0.361383</td>\n",
              "      <td>-0.456711</td>\n",
              "      <td>-0.448692</td>\n",
              "      <td>0.153930</td>\n",
              "      <td>1.000000</td>\n",
              "      <td>0.346928</td>\n",
              "      <td>0.148083</td>\n",
              "      <td>-0.409548</td>\n",
              "      <td>-0.333976</td>\n",
              "      <td>-0.029929</td>\n",
              "      <td>0.225182</td>\n",
              "      <td>0.204446</td>\n",
              "    </tr>\n",
              "    <tr>\n",
              "      <th>Zipcode</th>\n",
              "      <td>-0.153163</td>\n",
              "      <td>-0.204097</td>\n",
              "      <td>-0.199380</td>\n",
              "      <td>-0.279267</td>\n",
              "      <td>-0.059289</td>\n",
              "      <td>0.030286</td>\n",
              "      <td>0.084830</td>\n",
              "      <td>0.003076</td>\n",
              "      <td>-0.185844</td>\n",
              "      <td>-0.285278</td>\n",
              "      <td>0.103527</td>\n",
              "      <td>0.346928</td>\n",
              "      <td>1.000000</td>\n",
              "      <td>0.267022</td>\n",
              "      <td>-0.564213</td>\n",
              "      <td>-0.289424</td>\n",
              "      <td>-0.278768</td>\n",
              "      <td>0.064255</td>\n",
              "      <td>0.049886</td>\n",
              "    </tr>\n",
              "    <tr>\n",
              "      <th>Latitude</th>\n",
              "      <td>-0.008867</td>\n",
              "      <td>0.024506</td>\n",
              "      <td>0.052538</td>\n",
              "      <td>-0.145945</td>\n",
              "      <td>0.049640</td>\n",
              "      <td>-0.014275</td>\n",
              "      <td>0.006162</td>\n",
              "      <td>-0.015008</td>\n",
              "      <td>0.111226</td>\n",
              "      <td>-0.015269</td>\n",
              "      <td>0.121208</td>\n",
              "      <td>0.148083</td>\n",
              "      <td>0.267022</td>\n",
              "      <td>1.000000</td>\n",
              "      <td>-0.135564</td>\n",
              "      <td>0.044501</td>\n",
              "      <td>-0.140795</td>\n",
              "      <td>0.029357</td>\n",
              "      <td>0.020010</td>\n",
              "    </tr>\n",
              "    <tr>\n",
              "      <th>Longitude</th>\n",
              "      <td>0.129997</td>\n",
              "      <td>0.223332</td>\n",
              "      <td>0.240124</td>\n",
              "      <td>0.376102</td>\n",
              "      <td>0.125724</td>\n",
              "      <td>-0.041934</td>\n",
              "      <td>-0.078472</td>\n",
              "      <td>-0.106546</td>\n",
              "      <td>0.201765</td>\n",
              "      <td>0.360187</td>\n",
              "      <td>-0.177197</td>\n",
              "      <td>-0.409548</td>\n",
              "      <td>-0.564213</td>\n",
              "      <td>-0.135564</td>\n",
              "      <td>1.000000</td>\n",
              "      <td>0.338406</td>\n",
              "      <td>0.378116</td>\n",
              "      <td>-0.068426</td>\n",
              "      <td>-0.055290</td>\n",
              "    </tr>\n",
              "    <tr>\n",
              "      <th>Living Area after Renovation (in Sqft)</th>\n",
              "      <td>0.404806</td>\n",
              "      <td>0.572407</td>\n",
              "      <td>0.739515</td>\n",
              "      <td>0.361633</td>\n",
              "      <td>0.277817</td>\n",
              "      <td>0.080573</td>\n",
              "      <td>0.268524</td>\n",
              "      <td>-0.090182</td>\n",
              "      <td>0.676795</td>\n",
              "      <td>0.720753</td>\n",
              "      <td>0.166776</td>\n",
              "      <td>-0.333976</td>\n",
              "      <td>-0.289424</td>\n",
              "      <td>0.044501</td>\n",
              "      <td>0.338406</td>\n",
              "      <td>1.000000</td>\n",
              "      <td>0.372588</td>\n",
              "      <td>-0.004737</td>\n",
              "      <td>-0.010225</td>\n",
              "    </tr>\n",
              "    <tr>\n",
              "      <th>Lot Area after Renovation (in Sqft)</th>\n",
              "      <td>0.154329</td>\n",
              "      <td>0.095798</td>\n",
              "      <td>0.318573</td>\n",
              "      <td>0.917835</td>\n",
              "      <td>-0.210687</td>\n",
              "      <td>0.083232</td>\n",
              "      <td>0.118788</td>\n",
              "      <td>0.073370</td>\n",
              "      <td>0.167561</td>\n",
              "      <td>0.301163</td>\n",
              "      <td>0.045337</td>\n",
              "      <td>-0.029929</td>\n",
              "      <td>-0.278768</td>\n",
              "      <td>-0.140795</td>\n",
              "      <td>0.378116</td>\n",
              "      <td>0.372588</td>\n",
              "      <td>1.000000</td>\n",
              "      <td>0.021949</td>\n",
              "      <td>0.029389</td>\n",
              "    </tr>\n",
              "    <tr>\n",
              "      <th>Ever Renovated</th>\n",
              "      <td>0.018555</td>\n",
              "      <td>0.050239</td>\n",
              "      <td>0.055111</td>\n",
              "      <td>0.022789</td>\n",
              "      <td>0.006318</td>\n",
              "      <td>0.093291</td>\n",
              "      <td>0.104051</td>\n",
              "      <td>-0.060152</td>\n",
              "      <td>0.010010</td>\n",
              "      <td>0.026070</td>\n",
              "      <td>0.067745</td>\n",
              "      <td>0.225182</td>\n",
              "      <td>0.064255</td>\n",
              "      <td>0.029357</td>\n",
              "      <td>-0.068426</td>\n",
              "      <td>-0.004737</td>\n",
              "      <td>0.021949</td>\n",
              "      <td>1.000000</td>\n",
              "      <td>0.803743</td>\n",
              "    </tr>\n",
              "    <tr>\n",
              "      <th>Years Since Renovation</th>\n",
              "      <td>-0.006734</td>\n",
              "      <td>0.004644</td>\n",
              "      <td>0.024552</td>\n",
              "      <td>0.033036</td>\n",
              "      <td>-0.000379</td>\n",
              "      <td>0.105822</td>\n",
              "      <td>0.094621</td>\n",
              "      <td>-0.012115</td>\n",
              "      <td>-0.023473</td>\n",
              "      <td>0.013457</td>\n",
              "      <td>0.028257</td>\n",
              "      <td>0.204446</td>\n",
              "      <td>0.049886</td>\n",
              "      <td>0.020010</td>\n",
              "      <td>-0.055290</td>\n",
              "      <td>-0.010225</td>\n",
              "      <td>0.029389</td>\n",
              "      <td>0.803743</td>\n",
              "      <td>1.000000</td>\n",
              "    </tr>\n",
              "  </tbody>\n",
              "</table>\n",
              "</div>"
            ],
            "text/plain": [
              "                                           No of Bedrooms  ...  Years Since Renovation\n",
              "No of Bedrooms                                   1.000000  ...               -0.006734\n",
              "No of Bathrooms                                  0.516645  ...                0.004644\n",
              "Flat Area (in Sqft)                              0.577469  ...                0.024552\n",
              "Lot Area (in Sqft)                               0.175425  ...                0.033036\n",
              "No of Floors                                     0.175995  ...               -0.000379\n",
              "Waterfront View                                 -0.006617  ...                0.105822\n",
              "No of Times Visited                              0.079649  ...                0.094621\n",
              "Condition of the House                           0.028514  ...               -0.012115\n",
              "Overall Grade                                    0.349933  ...               -0.023473\n",
              "Area of the House from Basement (in Sqft)        0.509475  ...                0.013457\n",
              "Basement Area (in Sqft)                          0.276781  ...                0.028257\n",
              "Age of House (in Years)                         -0.154613  ...                0.204446\n",
              "Zipcode                                         -0.153163  ...                0.049886\n",
              "Latitude                                        -0.008867  ...                0.020010\n",
              "Longitude                                        0.129997  ...               -0.055290\n",
              "Living Area after Renovation (in Sqft)           0.404806  ...               -0.010225\n",
              "Lot Area after Renovation (in Sqft)              0.154329  ...                0.029389\n",
              "Ever Renovated                                   0.018555  ...                0.803743\n",
              "Years Since Renovation                          -0.006734  ...                1.000000\n",
              "\n",
              "[19 rows x 19 columns]"
            ]
          },
          "metadata": {
            "tags": []
          },
          "execution_count": 52
        }
      ]
    },
    {
      "cell_type": "code",
      "metadata": {
        "colab": {
          "base_uri": "https://localhost:8080/"
        },
        "id": "tIbALnehbUa-",
        "outputId": "bd375f41-3d13-4dba-9f9d-3f86b14a2e85"
      },
      "source": [
        "## pair of independent variables with correlation greater than 0.5\r\n",
        "k = X.corr()\r\n",
        "z = [[str(i),str(j)] for i in k.columns for j in k.columns if (k.loc[i,j] >abs(0.5))&(i!=j)]\r\n",
        "z, len(z)"
      ],
      "execution_count": 53,
      "outputs": [
        {
          "output_type": "execute_result",
          "data": {
            "text/plain": [
              "([['No of Bedrooms', 'No of Bathrooms'],\n",
              "  ['No of Bedrooms', 'Flat Area (in Sqft)'],\n",
              "  ['No of Bedrooms', 'Area of the House from Basement (in Sqft)'],\n",
              "  ['No of Bathrooms', 'No of Bedrooms'],\n",
              "  ['No of Bathrooms', 'Flat Area (in Sqft)'],\n",
              "  ['No of Bathrooms', 'No of Floors'],\n",
              "  ['No of Bathrooms', 'Overall Grade'],\n",
              "  ['No of Bathrooms', 'Area of the House from Basement (in Sqft)'],\n",
              "  ['No of Bathrooms', 'Living Area after Renovation (in Sqft)'],\n",
              "  ['Flat Area (in Sqft)', 'No of Bedrooms'],\n",
              "  ['Flat Area (in Sqft)', 'No of Bathrooms'],\n",
              "  ['Flat Area (in Sqft)', 'Overall Grade'],\n",
              "  ['Flat Area (in Sqft)', 'Area of the House from Basement (in Sqft)'],\n",
              "  ['Flat Area (in Sqft)', 'Living Area after Renovation (in Sqft)'],\n",
              "  ['Lot Area (in Sqft)', 'Lot Area after Renovation (in Sqft)'],\n",
              "  ['No of Floors', 'No of Bathrooms'],\n",
              "  ['No of Floors', 'Area of the House from Basement (in Sqft)'],\n",
              "  ['Overall Grade', 'No of Bathrooms'],\n",
              "  ['Overall Grade', 'Flat Area (in Sqft)'],\n",
              "  ['Overall Grade', 'Area of the House from Basement (in Sqft)'],\n",
              "  ['Overall Grade', 'Living Area after Renovation (in Sqft)'],\n",
              "  ['Area of the House from Basement (in Sqft)', 'No of Bedrooms'],\n",
              "  ['Area of the House from Basement (in Sqft)', 'No of Bathrooms'],\n",
              "  ['Area of the House from Basement (in Sqft)', 'Flat Area (in Sqft)'],\n",
              "  ['Area of the House from Basement (in Sqft)', 'No of Floors'],\n",
              "  ['Area of the House from Basement (in Sqft)', 'Overall Grade'],\n",
              "  ['Area of the House from Basement (in Sqft)',\n",
              "   'Living Area after Renovation (in Sqft)'],\n",
              "  ['Living Area after Renovation (in Sqft)', 'No of Bathrooms'],\n",
              "  ['Living Area after Renovation (in Sqft)', 'Flat Area (in Sqft)'],\n",
              "  ['Living Area after Renovation (in Sqft)', 'Overall Grade'],\n",
              "  ['Living Area after Renovation (in Sqft)',\n",
              "   'Area of the House from Basement (in Sqft)'],\n",
              "  ['Lot Area after Renovation (in Sqft)', 'Lot Area (in Sqft)'],\n",
              "  ['Ever Renovated', 'Years Since Renovation'],\n",
              "  ['Years Since Renovation', 'Ever Renovated']],\n",
              " 34)"
            ]
          },
          "metadata": {
            "tags": []
          },
          "execution_count": 53
        }
      ]
    },
    {
      "cell_type": "code",
      "metadata": {
        "colab": {
          "base_uri": "https://localhost:8080/"
        },
        "id": "rPmnHOJ9bXet",
        "outputId": "9f979a3b-634b-47da-aa76-57a0ab030c0f"
      },
      "source": [
        "# Importing Variance_inflation_Factor funtion from the Statsmodels\r\n",
        "from statsmodels.stats.outliers_influence import variance_inflation_factor\r\n",
        "\r\n",
        "vif_data = X[:]\r\n",
        "\r\n",
        "## Calculating VIF for every column\r\n",
        "VIF = pd.Series([variance_inflation_factor(vif_data.values, i) for i in range(vif_data.shape[1])], index = vif_data.columns)\r\n",
        "VIF"
      ],
      "execution_count": 54,
      "outputs": [
        {
          "output_type": "execute_result",
          "data": {
            "text/plain": [
              "No of Bedrooms                                1.736931\n",
              "No of Bathrooms                               3.424393\n",
              "Flat Area (in Sqft)                          21.514533\n",
              "Lot Area (in Sqft)                            6.844926\n",
              "No of Floors                                  2.388708\n",
              "Waterfront View                               1.211015\n",
              "No of Times Visited                           1.415596\n",
              "Condition of the House                        1.260549\n",
              "Overall Grade                                 2.905865\n",
              "Area of the House from Basement (in Sqft)    23.289239\n",
              "Basement Area (in Sqft)                       6.561328\n",
              "Age of House (in Years)                       2.458302\n",
              "Zipcode                                       1.668833\n",
              "Latitude                                      1.191495\n",
              "Longitude                                     1.880317\n",
              "Living Area after Renovation (in Sqft)        2.917259\n",
              "Lot Area after Renovation (in Sqft)           6.603083\n",
              "Ever Renovated                                3.022760\n",
              "Years Since Renovation                        2.872050\n",
              "dtype: float64"
            ]
          },
          "metadata": {
            "tags": []
          },
          "execution_count": 54
        }
      ]
    },
    {
      "cell_type": "code",
      "metadata": {
        "id": "CInEiEh6ba9K"
      },
      "source": [
        "def MC_remover(data):\r\n",
        "  vif = pd.Series([variance_inflation_factor(data.values, i) for i in range(data.shape[1])], index = data.columns)\r\n",
        "  if vif.max() > 5:\r\n",
        "    print(vif[vif == vif.max()].index[0],'has been removed')\r\n",
        "    data = data.drop(columns = [vif[vif == vif.max()].index[0]])\r\n",
        "    return data\r\n",
        "  else:\r\n",
        "    print('No Multicollinearity present anymore')\r\n",
        "    return data"
      ],
      "execution_count": 55,
      "outputs": []
    },
    {
      "cell_type": "code",
      "metadata": {
        "colab": {
          "base_uri": "https://localhost:8080/",
          "height": 389
        },
        "id": "EdJE--wCbd22",
        "outputId": "cdec4378-749c-436f-d5b3-03d0b32ba69d"
      },
      "source": [
        "for i in range(7):\r\n",
        "  vif_data = MC_remover(vif_data)\r\n",
        "\r\n",
        "vif_data.head()"
      ],
      "execution_count": 56,
      "outputs": [
        {
          "output_type": "stream",
          "text": [
            "Area of the House from Basement (in Sqft) has been removed\n",
            "Lot Area (in Sqft) has been removed\n",
            "Flat Area (in Sqft) has been removed\n",
            "No Multicollinearity present anymore\n",
            "No Multicollinearity present anymore\n",
            "No Multicollinearity present anymore\n",
            "No Multicollinearity present anymore\n"
          ],
          "name": "stdout"
        },
        {
          "output_type": "execute_result",
          "data": {
            "text/html": [
              "<div>\n",
              "<style scoped>\n",
              "    .dataframe tbody tr th:only-of-type {\n",
              "        vertical-align: middle;\n",
              "    }\n",
              "\n",
              "    .dataframe tbody tr th {\n",
              "        vertical-align: top;\n",
              "    }\n",
              "\n",
              "    .dataframe thead th {\n",
              "        text-align: right;\n",
              "    }\n",
              "</style>\n",
              "<table border=\"1\" class=\"dataframe\">\n",
              "  <thead>\n",
              "    <tr style=\"text-align: right;\">\n",
              "      <th></th>\n",
              "      <th>No of Bedrooms</th>\n",
              "      <th>No of Bathrooms</th>\n",
              "      <th>No of Floors</th>\n",
              "      <th>Waterfront View</th>\n",
              "      <th>No of Times Visited</th>\n",
              "      <th>Condition of the House</th>\n",
              "      <th>Overall Grade</th>\n",
              "      <th>Basement Area (in Sqft)</th>\n",
              "      <th>Age of House (in Years)</th>\n",
              "      <th>Zipcode</th>\n",
              "      <th>Latitude</th>\n",
              "      <th>Longitude</th>\n",
              "      <th>Living Area after Renovation (in Sqft)</th>\n",
              "      <th>Lot Area after Renovation (in Sqft)</th>\n",
              "      <th>Ever Renovated</th>\n",
              "      <th>Years Since Renovation</th>\n",
              "    </tr>\n",
              "  </thead>\n",
              "  <tbody>\n",
              "    <tr>\n",
              "      <th>0</th>\n",
              "      <td>-0.398647</td>\n",
              "      <td>-1.448931</td>\n",
              "      <td>-0.915604</td>\n",
              "      <td>-0.087181</td>\n",
              "      <td>-0.30579</td>\n",
              "      <td>-0.629203</td>\n",
              "      <td>-0.563993</td>\n",
              "      <td>-0.726332</td>\n",
              "      <td>0.544734</td>\n",
              "      <td>1.870094</td>\n",
              "      <td>-0.352576</td>\n",
              "      <td>-0.306108</td>\n",
              "      <td>-1.027547</td>\n",
              "      <td>-0.416515</td>\n",
              "      <td>-0.210155</td>\n",
              "      <td>-0.168911</td>\n",
              "    </tr>\n",
              "    <tr>\n",
              "      <th>1</th>\n",
              "      <td>-0.398647</td>\n",
              "      <td>0.176496</td>\n",
              "      <td>0.937193</td>\n",
              "      <td>-0.087181</td>\n",
              "      <td>-0.30579</td>\n",
              "      <td>-0.629203</td>\n",
              "      <td>-0.563993</td>\n",
              "      <td>0.538457</td>\n",
              "      <td>0.680915</td>\n",
              "      <td>0.879534</td>\n",
              "      <td>1.161645</td>\n",
              "      <td>-0.746519</td>\n",
              "      <td>-0.355983</td>\n",
              "      <td>-0.048331</td>\n",
              "      <td>4.758385</td>\n",
              "      <td>4.827106</td>\n",
              "    </tr>\n",
              "    <tr>\n",
              "      <th>2</th>\n",
              "      <td>-1.477788</td>\n",
              "      <td>-1.448931</td>\n",
              "      <td>-0.915604</td>\n",
              "      <td>-0.087181</td>\n",
              "      <td>-0.30579</td>\n",
              "      <td>-0.629203</td>\n",
              "      <td>-1.468566</td>\n",
              "      <td>-0.726332</td>\n",
              "      <td>1.293731</td>\n",
              "      <td>-0.933379</td>\n",
              "      <td>1.283619</td>\n",
              "      <td>-0.135646</td>\n",
              "      <td>1.130637</td>\n",
              "      <td>0.018241</td>\n",
              "      <td>-0.210155</td>\n",
              "      <td>-0.168911</td>\n",
              "    </tr>\n",
              "    <tr>\n",
              "      <th>3</th>\n",
              "      <td>0.678352</td>\n",
              "      <td>1.149811</td>\n",
              "      <td>-0.915604</td>\n",
              "      <td>-0.087181</td>\n",
              "      <td>-0.30579</td>\n",
              "      <td>2.444136</td>\n",
              "      <td>-0.563993</td>\n",
              "      <td>1.504500</td>\n",
              "      <td>0.204281</td>\n",
              "      <td>1.085122</td>\n",
              "      <td>-0.283288</td>\n",
              "      <td>-1.272266</td>\n",
              "      <td>-0.985854</td>\n",
              "      <td>-0.563287</td>\n",
              "      <td>-0.210155</td>\n",
              "      <td>-0.168911</td>\n",
              "    </tr>\n",
              "    <tr>\n",
              "      <th>4</th>\n",
              "      <td>-0.398647</td>\n",
              "      <td>-0.148266</td>\n",
              "      <td>-0.915604</td>\n",
              "      <td>-0.087181</td>\n",
              "      <td>-0.30579</td>\n",
              "      <td>-0.629203</td>\n",
              "      <td>0.340581</td>\n",
              "      <td>-0.726332</td>\n",
              "      <td>-0.544715</td>\n",
              "      <td>-0.073647</td>\n",
              "      <td>0.409587</td>\n",
              "      <td>1.199268</td>\n",
              "      <td>-0.166983</td>\n",
              "      <td>-0.070472</td>\n",
              "      <td>-0.210155</td>\n",
              "      <td>-0.168911</td>\n",
              "    </tr>\n",
              "  </tbody>\n",
              "</table>\n",
              "</div>"
            ],
            "text/plain": [
              "   No of Bedrooms  No of Bathrooms  ...  Ever Renovated  Years Since Renovation\n",
              "0       -0.398647        -1.448931  ...       -0.210155               -0.168911\n",
              "1       -0.398647         0.176496  ...        4.758385                4.827106\n",
              "2       -1.477788        -1.448931  ...       -0.210155               -0.168911\n",
              "3        0.678352         1.149811  ...       -0.210155               -0.168911\n",
              "4       -0.398647        -0.148266  ...       -0.210155               -0.168911\n",
              "\n",
              "[5 rows x 16 columns]"
            ]
          },
          "metadata": {
            "tags": []
          },
          "execution_count": 56
        }
      ]
    },
    {
      "cell_type": "code",
      "metadata": {
        "colab": {
          "base_uri": "https://localhost:8080/"
        },
        "id": "QkCMXOcybh91",
        "outputId": "f8172874-8d44-43ac-9623-88caae059564"
      },
      "source": [
        "# Calculating VIF for remaining columns\r\n",
        "VIF = pd.Series([variance_inflation_factor(vif_data.values, i) for i in range(vif_data.shape[1])], index = vif_data.columns)\r\n",
        "VIF, len(vif_data.columns)"
      ],
      "execution_count": 57,
      "outputs": [
        {
          "output_type": "execute_result",
          "data": {
            "text/plain": [
              "(No of Bedrooms                            1.498157\n",
              " No of Bathrooms                           2.950107\n",
              " No of Floors                              2.185237\n",
              " Waterfront View                           1.209171\n",
              " No of Times Visited                       1.410593\n",
              " Condition of the House                    1.253804\n",
              " Overall Grade                             2.541427\n",
              " Basement Area (in Sqft)                   1.639834\n",
              " Age of House (in Years)                   2.392439\n",
              " Zipcode                                   1.666011\n",
              " Latitude                                  1.183389\n",
              " Longitude                                 1.857951\n",
              " Living Area after Renovation (in Sqft)    2.503466\n",
              " Lot Area after Renovation (in Sqft)       1.552630\n",
              " Ever Renovated                            3.017581\n",
              " Years Since Renovation                    2.868474\n",
              " dtype: float64, 16)"
            ]
          },
          "metadata": {
            "tags": []
          },
          "execution_count": 57
        }
      ]
    },
    {
      "cell_type": "code",
      "metadata": {
        "id": "PlrfiXObbol2"
      },
      "source": [
        "X = vif_data[:]"
      ],
      "execution_count": 58,
      "outputs": []
    },
    {
      "cell_type": "code",
      "metadata": {
        "id": "_Bk2Q1KobrDg"
      },
      "source": [
        "Y = data['Sale Price']"
      ],
      "execution_count": 59,
      "outputs": []
    },
    {
      "cell_type": "code",
      "metadata": {
        "colab": {
          "base_uri": "https://localhost:8080/"
        },
        "id": "lRjQitMubt_t",
        "outputId": "3bc2b7ca-5e5a-4417-dc11-e192877d3e53"
      },
      "source": [
        "from sklearn.model_selection import train_test_split\r\n",
        "x_train, x_test, y_train, y_test = train_test_split(X, Y, test_size = 0.3, random_state = 101)\r\n",
        "\r\n",
        "x_train.shape, x_test.shape, y_train.shape, y_test.shape"
      ],
      "execution_count": 60,
      "outputs": [
        {
          "output_type": "execute_result",
          "data": {
            "text/plain": [
              "((15126, 16), (6483, 16), (15126,), (6483,))"
            ]
          },
          "metadata": {
            "tags": []
          },
          "execution_count": 60
        }
      ]
    },
    {
      "cell_type": "code",
      "metadata": {
        "colab": {
          "base_uri": "https://localhost:8080/"
        },
        "id": "oUy61hVqbwmt",
        "outputId": "e38c0c4b-7a5b-480e-98f7-1c909c8f1036"
      },
      "source": [
        "from sklearn.linear_model import LinearRegression\r\n",
        "lr = LinearRegression(normalize = True)\r\n",
        "lr.fit(x_train, y_train)"
      ],
      "execution_count": 61,
      "outputs": [
        {
          "output_type": "execute_result",
          "data": {
            "text/plain": [
              "LinearRegression(copy_X=True, fit_intercept=True, n_jobs=None, normalize=True)"
            ]
          },
          "metadata": {
            "tags": []
          },
          "execution_count": 61
        }
      ]
    },
    {
      "cell_type": "code",
      "metadata": {
        "colab": {
          "base_uri": "https://localhost:8080/"
        },
        "id": "CrdbhUGfbzoh",
        "outputId": "7ba26d9d-187f-4738-969c-b9bb4ad2bb94"
      },
      "source": [
        "lr.coef_"
      ],
      "execution_count": 62,
      "outputs": [
        {
          "output_type": "execute_result",
          "data": {
            "text/plain": [
              "array([  1584.86669312,  42601.67421626,  23310.57525319,   9989.31321342,\n",
              "        30480.01914579,  16059.91826464, 108934.75599668,  11330.36808308,\n",
              "        65047.79835963, -15608.43858763,  75617.37499127,  -7749.57798632,\n",
              "        54292.09103532,   2016.74778297,  16444.49611058, -11320.49390293])"
            ]
          },
          "metadata": {
            "tags": []
          },
          "execution_count": 62
        }
      ]
    },
    {
      "cell_type": "code",
      "metadata": {
        "id": "KWcfyERmb2Ft"
      },
      "source": [
        "predictions = lr.predict(x_test)"
      ],
      "execution_count": 63,
      "outputs": []
    },
    {
      "cell_type": "code",
      "metadata": {
        "colab": {
          "base_uri": "https://localhost:8080/"
        },
        "id": "tkhDXtXob5tV",
        "outputId": "265ef7f2-a7e1-4f89-b985-59efe085dffc"
      },
      "source": [
        "lr.score(x_test, y_test)"
      ],
      "execution_count": 64,
      "outputs": [
        {
          "output_type": "execute_result",
          "data": {
            "text/plain": [
              "0.7344495220499551"
            ]
          },
          "metadata": {
            "tags": []
          },
          "execution_count": 64
        }
      ]
    },
    {
      "cell_type": "code",
      "metadata": {
        "id": "DmZnyyNPb7JF"
      },
      "source": [
        "residuals = predictions - y_test\r\n",
        "\r\n",
        "residual_table = pd.DataFrame({'residuals':residuals,\r\n",
        "                    'predictions':predictions})\r\n",
        "residual_table = residual_table.sort_values( by = 'predictions')"
      ],
      "execution_count": 65,
      "outputs": []
    },
    {
      "cell_type": "code",
      "metadata": {
        "id": "MIZ-82whb-TQ"
      },
      "source": [
        "z = [i for i in range(int(residual_table['predictions'].max()))]\r\n",
        "k = [0 for i in range(int(residual_table['predictions'].max()))]"
      ],
      "execution_count": 66,
      "outputs": []
    },
    {
      "cell_type": "code",
      "metadata": {
        "colab": {
          "base_uri": "https://localhost:8080/",
          "height": 493
        },
        "id": "RJlLd6yhcCW1",
        "outputId": "f45ecaaa-8e70-4a4f-c9c9-0bd8951b5b41"
      },
      "source": [
        "plt.figure(dpi = 130, figsize = (17,7))\r\n",
        "\r\n",
        "plt.scatter( residual_table['predictions'], residual_table['residuals'], color = 'red', s = 2)\r\n",
        "plt.plot(z, k, color = 'green', linewidth = 3, label = 'regression line')\r\n",
        "plt.ylim(-800000, 800000)\r\n",
        "plt.xlabel('fitted points (ordered by predictions)')\r\n",
        "plt.ylabel('residuals')\r\n",
        "plt.title('residual plot')\r\n",
        "plt.legend()\r\n",
        "plt.show()"
      ],
      "execution_count": 67,
      "outputs": [
        {
          "output_type": "display_data",
          "data": {
            "image/png": "[encoded data removed]",
            "text/plain": [
              "<Figure size 2210x910 with 1 Axes>"
            ]
          },
          "metadata": {
            "tags": [],
            "needs_background": "dark"
          }
        }
      ]
    },
    {
      "cell_type": "code",
      "metadata": {
        "colab": {
          "base_uri": "https://localhost:8080/",
          "height": 631
        },
        "id": "exznniKscF0W",
        "outputId": "b848e16f-9189-4a4e-b67d-d48ed02ba46e"
      },
      "source": [
        "plt.figure(dpi = 100, figsize = (10,7))\r\n",
        "plt.hist(residual_table['residuals'], color = 'red', bins = 200)\r\n",
        "plt.xlabel('residuals')\r\n",
        "plt.ylabel('frequency')\r\n",
        "plt.title('distribution of residuals')\r\n",
        "plt.show()"
      ],
      "execution_count": 68,
      "outputs": [
        {
          "output_type": "display_data",
          "data": {
            "image/png": "[encoded data removed]",
            "text/plain": [
              "<Figure size 1000x700 with 1 Axes>"
            ]
          },
          "metadata": {
            "tags": [],
            "needs_background": "dark"
          }
        }
      ]
    },
    {
      "cell_type": "code",
      "metadata": {
        "id": "2wwBUgkdcLQl"
      },
      "source": [
        "coefficients_table = pd.DataFrame({'column': x_train.columns,\r\n",
        "                                  'coefficients': lr.coef_})\r\n",
        "coefficient_table = coefficients_table.sort_values(by = 'coefficients')\r\n"
      ],
      "execution_count": 69,
      "outputs": []
    },
    {
      "cell_type": "code",
      "metadata": {
        "id": "sxp0eEYAcMf-",
        "outputId": "42a146bf-d2c5-4539-b7a7-47f3843e445b",
        "colab": {
          "base_uri": "https://localhost:8080/",
          "height": 663
        }
      },
      "source": [
        "plt.figure(figsize=(8, 6), dpi=120)\r\n",
        "x = coefficient_table['column']\r\n",
        "y = coefficient_table['coefficients']\r\n",
        "plt.barh( x, y)\r\n",
        "plt.xlabel( \"Coefficients\")\r\n",
        "plt.ylabel('Variables')\r\n",
        "plt.title('Normalized Coefficient plot')\r\n",
        "plt.show()"
      ],
      "execution_count": 70,
      "outputs": [
        {
          "output_type": "display_data",
          "data": {
            "image/png": "[encoded data removed]",
            "text/plain": [
              "<Figure size 960x720 with 1 Axes>"
            ]
          },
          "metadata": {
            "tags": [],
            "needs_background": "dark"
          }
        }
      ]
    }
  ]
}